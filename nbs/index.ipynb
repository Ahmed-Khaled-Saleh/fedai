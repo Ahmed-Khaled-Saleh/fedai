{
 "cells": [
  {
   "cell_type": "code",
   "execution_count": null,
   "metadata": {},
   "outputs": [],
   "source": [
    "#| hide\n",
    "from fedai.core import *"
   ]
  },
  {
   "cell_type": "markdown",
   "metadata": {},
   "source": [
    "# fedai\n",
    "\n",
    "> A minimalist Library for doing Federated learning research."
   ]
  },
  {
   "cell_type": "markdown",
   "metadata": {},
   "source": [
    "Fedai enables rapid FL research and prototyping. It's a Library of different federated learning scenarios (iid, non-iid, ...), deep learning models (LLMs, CNNs, MLPs, ...) and datasets that is designed to make federated learning more accessible and accelerate your research. It's also easily extendible so that you can bring your algorithm/data/scneario in a few lines of code. "
   ]
  },
  {
   "cell_type": "markdown",
   "metadata": {},
   "source": [
    "If you are new to using `nbdev` here are some useful pointers to get you started."
   ]
  },
  {
   "cell_type": "markdown",
   "metadata": {},
   "source": [
    "## Usage"
   ]
  },
  {
   "cell_type": "markdown",
   "metadata": {},
   "source": [
    "### Installation"
   ]
  },
  {
   "cell_type": "markdown",
   "metadata": {},
   "source": [
    "Install latest from the GitHub [repository][repo]:\n",
    "\n",
    "```sh\n",
    "$ pip install git+https://github.com/Ahmed-Khaled-Saleh/fedai.git\n",
    "```\n",
    "\n",
    "\n",
    "[repo]: https://github.com/Ahmed-Khaled-Saleh/fedai"
   ]
  },
  {
   "cell_type": "markdown",
   "metadata": {},
   "source": [
    "### Documentation"
   ]
  },
  {
   "cell_type": "markdown",
   "metadata": {},
   "source": [
    "Will be added very soon, but you can read the notebooks since they contain all the necessary information for you to understand how it works."
   ]
  }
 ],
 "metadata": {
  "kernelspec": {
   "display_name": "python3",
   "language": "python",
   "name": "python3"
  }
 },
 "nbformat": 4,
 "nbformat_minor": 4
}
