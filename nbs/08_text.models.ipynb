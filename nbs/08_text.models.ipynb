{
 "cells": [
  {
   "cell_type": "markdown",
   "metadata": {},
   "source": [
    "# Text Models\n",
    "\n",
    "> Fill in a module description here\n"
   ]
  },
  {
   "cell_type": "code",
   "execution_count": null,
   "metadata": {},
   "outputs": [],
   "source": [
    "#| default_exp text.models"
   ]
  },
  {
   "cell_type": "code",
   "execution_count": null,
   "metadata": {},
   "outputs": [],
   "source": [
    "#| hide\n",
    "from nbdev.showdoc import *  # noqa: F403"
   ]
  },
  {
   "cell_type": "code",
   "execution_count": null,
   "metadata": {},
   "outputs": [],
   "source": [
    "#| export\n",
    "from fastcore.utils import *  # noqa: F403\n",
    "from transformers import AutoModelForCausalLM\n",
    "import torch\n",
    "from torch import nn\n",
    "from peft import get_peft_model, LoraConfig  # noqa: F403\n"
   ]
  },
  {
   "cell_type": "code",
   "execution_count": null,
   "metadata": {},
   "outputs": [],
   "source": [
    "#| export\n",
    "class CharacterLSTM(nn.Module):\n",
    "    def __init__(self, vocab_size, embed_size, hidden_size, num_layers=1):\n",
    "        super(CharacterLSTM, self).__init__()\n",
    "        self.embedding = nn.Embedding(vocab_size, embed_size)\n",
    "        self.lstm = nn.LSTM(embed_size, hidden_size, num_layers, batch_first=True)\n",
    "        self.fc = nn.Linear(hidden_size, vocab_size)\n",
    "\n",
    "    def forward(self, x, hidden):\n",
    "        x = self.embedding(x)  # Convert input indices to embeddings\n",
    "        out, hidden = self.lstm(x, hidden)  # Pass through LSTM layers\n",
    "        out = self.fc(out)  # Apply fully connected layer to LSTM outputs\n",
    "        return out, hidden\n",
    "\n",
    "    def init_hidden(self, batch_size, hidden_size, num_layers):\n",
    "        # Initialize hidden and cell states with zeros\n",
    "        h0 = torch.zeros(num_layers, batch_size, hidden_size)\n",
    "        c0 = torch.zeros(num_layers, batch_size, hidden_size)\n",
    "        return (h0, c0)\n",
    "\n"
   ]
  },
  {
   "cell_type": "code",
   "execution_count": null,
   "metadata": {},
   "outputs": [],
   "source": [
    "#| hide\n",
    "# Example configuration:\n",
    "vocab_size = 100  # Size of the character vocabulary\n",
    "embed_size = 128  # Size of the embedding vectors\n",
    "hidden_size = 256  # Number of hidden units in the LSTM\n",
    "num_layers = 2  # Number of LSTM layers\n",
    "\n",
    "lstm_model = CharacterLSTM(vocab_size, embed_size, hidden_size, num_layers)\n",
    "print(lstm_model)\n",
    "\n",
    "# Initialize hidden states for a batch size of 32:\n",
    "batch_size = 32\n",
    "hidden = lstm_model.init_hidden(batch_size, hidden_size, num_layers)\n"
   ]
  },
  {
   "cell_type": "code",
   "execution_count": null,
   "metadata": {},
   "outputs": [],
   "source": [
    "#| export\n",
    "class CausalLMModel(nn.Module):\n",
    "    def __init__(self, model_name_or_path):\n",
    "        super(CausalLMModel, self).__init__()\n",
    "        self.model = AutoModelForCausalLM.from_pretrained(\n",
    "            model_name_or_path,\n",
    "        )\n",
    "\n",
    "    def forward(self, input_id):\n",
    "        output = self.model(input_ids=input_id, return_dict=False)\n",
    "        return output"
   ]
  },
  {
   "cell_type": "code",
   "execution_count": null,
   "metadata": {},
   "outputs": [],
   "source": [
    "#| export\n",
    "def delegate(to, *methods):\n",
    "    def dec(klass):\n",
    "        def create_delegator(method):\n",
    "            def delegator(self, *args, **kwargs):\n",
    "                obj = getattr(self, to)\n",
    "                m = getattr(obj, method)\n",
    "                return m(*args, **kwargs)\n",
    "            return delegator\n",
    "        for m in methods:\n",
    "            setattr(klass, m, create_delegator(m))\n",
    "        return klass\n",
    "    return dec"
   ]
  },
  {
   "cell_type": "code",
   "execution_count": null,
   "metadata": {},
   "outputs": [],
   "source": [
    "#| export\n",
    "class CausalLMPEFTModel(torch.nn.Module):\n",
    "    def __init__(self, cfg):\n",
    "        super(CausalLMPEFTModel, self).__init__()\n",
    "        # PEFT configs\n",
    "        peft_config = LoraConfig( # type: ignore  # noqa: F405\n",
    "            lora_alpha=cfg.lora_alpha,\n",
    "            lora_dropout=cfg.lora_dropout,\n",
    "            target_modules=cfg.target_modules,\n",
    "            r=cfg.r,\n",
    "            bias=\"none\",\n",
    "            task_type=\"CAUSAL_LM\",\n",
    "        )\n",
    "        \n",
    "        base_model = AutoModelForCausalLM.from_pretrained(\n",
    "            cfg.model,\n",
    "            device_map=\"cpu\",\n",
    "            use_cache=False,\n",
    "            torch_dtype=torch.bfloat16\n",
    "        )\n",
    "        self.model = get_peft_model(base_model, peft_config)  # type: ignore # noqa: F405\n",
    "\n",
    "    def __getattr__(self, name):\n",
    "        # Bypass __getattr__ when accessing self.model\n",
    "        self.model = self.__dict__.get(\"model\", None)\n",
    "        if self.model and hasattr(self.model, name):\n",
    "            return getattr(self.model, name)\n",
    "        raise AttributeError(f\"'{type(self).__name__}' object has no attribute '{name}'\")\n",
    "\n",
    "\n",
    "    def forward(self, input_id):\n",
    "        output = self.model(input_ids=input_id, return_dict=False)\n",
    "        return output"
   ]
  },
  {
   "cell_type": "code",
   "execution_count": null,
   "metadata": {},
   "outputs": [],
   "source": [
    "#| export\n",
    "def get_hf_model(cfg):\n",
    "\n",
    "    # remove the hf:// prefix (added as a workaround to distinguish between local and remote models)\n",
    "    cfg.model.name = cfg.model.name.replace(\"hf://\", \"\")\n",
    "    \n",
    "    model = AutoModelForCausalLM.from_pretrained(cfg.model.name,\n",
    "                                                 trust_remote_code=True,\n",
    "                                                 device_map='cpu',\n",
    "                                                 )\n",
    "    config = LoraConfig(  # noqa: F405 # type: ignore\n",
    "                    r= cfg.model.peft.r,\n",
    "                    target_modules= cfg.model.peft.target_modules,\n",
    "                    lora_alpha= cfg.model.peft.lora_alpha,\n",
    "                    lora_dropout= cfg.model.peft.lora_dropout,\n",
    "                    bias= \"none\",\n",
    "                    task_type= \"CAUSAL_LM\",\n",
    "                )\n",
    "        \n",
    "    model = get_peft_model(model, config)  # type: ignore # noqa: F405\n",
    "\n",
    "    return model\n"
   ]
  },
  {
   "cell_type": "code",
   "execution_count": null,
   "metadata": {},
   "outputs": [],
   "source": [
    "#| hide\n",
    "import nbdev; nbdev.nbdev_export() # type: ignore  # noqa: E702\n"
   ]
  }
 ],
 "metadata": {
  "kernelspec": {
   "display_name": "python3",
   "language": "python",
   "name": "python3"
  }
 },
 "nbformat": 4,
 "nbformat_minor": 4
}
