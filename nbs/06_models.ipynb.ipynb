{
 "cells": [
  {
   "cell_type": "markdown",
   "metadata": {},
   "source": [
    "# Models\n",
    "\n",
    "> Fill in a module description here\n"
   ]
  },
  {
   "cell_type": "code",
   "execution_count": null,
   "metadata": {},
   "outputs": [],
   "source": [
    "#| default_exp models"
   ]
  },
  {
   "cell_type": "code",
   "execution_count": null,
   "metadata": {},
   "outputs": [],
   "source": [
    "#| hide\n",
    "from nbdev.showdoc import *"
   ]
  },
  {
   "cell_type": "code",
   "execution_count": null,
   "metadata": {},
   "outputs": [],
   "source": [
    "#| export\n",
    "from fastcore.utils import *\n",
    "from transformers import AutoModelForCausalLM\n",
    "from torch import nn\n",
    "from peft import *\n",
    "import torch"
   ]
  },
  {
   "cell_type": "code",
   "execution_count": null,
   "metadata": {},
   "outputs": [],
   "source": [
    "#| export\n",
    "class CausalLMModel(torch.nn.Module):\n",
    "    def __init__(self, model_name_or_path):\n",
    "        super(CausalLMModel, self).__init__()\n",
    "        self.model = AutoModelForCausalLM.from_pretrained(\n",
    "            model_name_or_path,\n",
    "        )\n",
    "\n",
    "    def forward(self, input_id):\n",
    "        output = self.model(input_ids=input_id, return_dict=False)\n",
    "        return output"
   ]
  },
  {
   "cell_type": "code",
   "execution_count": null,
   "metadata": {},
   "outputs": [],
   "source": [
    "#| export\n",
    "def delegate(to, *methods):\n",
    "    def dec(klass):\n",
    "        def create_delegator(method):\n",
    "            def delegator(self, *args, **kwargs):\n",
    "                obj = getattr(self, to)\n",
    "                m = getattr(obj, method)\n",
    "                return m(*args, **kwargs)\n",
    "            return delegator\n",
    "        for m in methods:\n",
    "            setattr(klass, m, create_delegator(m))\n",
    "        return klass\n",
    "    return dec"
   ]
  },
  {
   "cell_type": "code",
   "execution_count": null,
   "metadata": {},
   "outputs": [],
   "source": [
    "#| export\n",
    "class CausalLMPEFTModel(torch.nn.Module):\n",
    "    def __init__(self, cfg):\n",
    "        super(CausalLMPEFTModel, self).__init__()\n",
    "        # PEFT configs\n",
    "        peft_config = LoraConfig(\n",
    "            lora_alpha=cfg.lora_alpha,\n",
    "            lora_dropout=cfg.lora_dropout,\n",
    "            target_modules=cfg.target_modules,\n",
    "            r=cfg.r,\n",
    "            bias=\"none\",\n",
    "            task_type=\"CAUSAL_LM\",\n",
    "        )\n",
    "        base_model = AutoModelForCausalLM.from_pretrained(\n",
    "            cfg.model,\n",
    "            device_map=\"cpu\",\n",
    "            use_cache=False,\n",
    "            torch_dtype=torch.bfloat16\n",
    "        )\n",
    "        self.model = get_peft_model(base_model, peft_config)\n",
    "\n",
    "    def __getattr__(self, name):\n",
    "        # Bypass __getattr__ when accessing self.model\n",
    "        self.model = self.__dict__.get(\"model\", None)\n",
    "        if self.model and hasattr(self.model, name):\n",
    "            return getattr(self.model, name)\n",
    "        raise AttributeError(f\"'{type(self).__name__}' object has no attribute '{name}'\")\n",
    "\n",
    "\n",
    "    def forward(self, input_id):\n",
    "        output = self.model(input_ids=input_id, return_dict=False)\n",
    "        return output"
   ]
  },
  {
   "cell_type": "code",
   "execution_count": null,
   "metadata": {},
   "outputs": [],
   "source": [
    "#| export\n",
    "def get_model(cfg):\n",
    "    model = AutoModelForCausalLM.from_pretrained(cfg.model,\n",
    "                                                 trust_remote_code=True,\n",
    "                                                 device_map='cpu',\n",
    "                                                 )\n",
    "    config = LoraConfig(\n",
    "                    r=cfg.r,\n",
    "                    target_modules=cfg.target_modules,\n",
    "                    lora_alpha=cfg.lora_alpha,\n",
    "                    lora_dropout=cfg.lora_dropout,\n",
    "                    bias=\"none\",\n",
    "                    task_type=\"CAUSAL_LM\",\n",
    "                )\n",
    "        \n",
    "    model = get_peft_model(model, config)\n",
    "    \n",
    "    return model\n",
    "    "
   ]
  },
  {
   "cell_type": "code",
   "execution_count": null,
   "metadata": {},
   "outputs": [],
   "source": [
    "#| hide\n",
    "import nbdev; nbdev.nbdev_export()"
   ]
  }
 ],
 "metadata": {
  "kernelspec": {
   "display_name": "python3",
   "language": "python",
   "name": "python3"
  }
 },
 "nbformat": 4,
 "nbformat_minor": 4
}
