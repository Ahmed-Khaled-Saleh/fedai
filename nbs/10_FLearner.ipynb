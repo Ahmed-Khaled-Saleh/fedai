{
 "cells": [
  {
   "cell_type": "markdown",
   "metadata": {},
   "source": [
    "# Models\n",
    "\n",
    "> Fill in a module description here\n"
   ]
  },
  {
   "cell_type": "code",
   "execution_count": null,
   "metadata": {},
   "outputs": [],
   "source": [
    "#| default_exp FLearner"
   ]
  },
  {
   "cell_type": "code",
   "execution_count": null,
   "metadata": {},
   "outputs": [],
   "source": [
    "#| hide\n",
    "from nbdev.showdoc import *  # noqa: F403"
   ]
  },
  {
   "cell_type": "markdown",
   "metadata": {},
   "source": [
    "## ToDo\n",
    "\n",
    "- Add the TextBlock and The TabularBlock.\n",
    "- Add loging using Loguru."
   ]
  },
  {
   "cell_type": "code",
   "execution_count": null,
   "metadata": {},
   "outputs": [],
   "source": [
    "#| export\n",
    "import torch\n",
    "import os\n",
    "from datetime import datetime\n",
    "from fastcore.utils import * # type: ignore # noqa: F403\n",
    "from fedai.federated.agents import * # noqa: F403\n",
    "from fedai.learner_utils import * # type: ignore # noqa: F403\n",
    "from fedai.client_selector import *  # noqa: F403\n",
    "from fedai.trainers import *  # noqa: F403\n",
    "from fedai.core import get_cfg  # noqa: F401, F403\n",
    "from fedai.wandb_writer import *  # noqa: F403"
   ]
  },
  {
   "cell_type": "code",
   "execution_count": null,
   "metadata": {},
   "outputs": [],
   "source": [
    "#| export\n",
    "class FLearner:\n",
    "    def __init__(self,\n",
    "                 cfg, # OmegaConf object\n",
    "                 client_fn, # a function that returns a client object\n",
    "                 client_selector= BaseClientSelector, # a client selection class represnting a client seleection algorithm # noqa: F405\n",
    "                 client_cls= FLAgent,  # noqa: F405\n",
    "                 trainer = Trainer,  # noqa: F405\n",
    "                 loss_fn= torch.nn.CrossEntropyLoss,  # noqa: F405\n",
    "                 writer= WandbWriter): # a writer to write results to an expirement tracking tool # noqa: F405\n",
    "        \n",
    "        self.cfg = cfg\n",
    "        self.cfg.now = datetime.now().strftime(\"%Y%m%d_%H%M%S\")\n",
    "        self.cfg.save_dir = os.path.join(self.cfg.save_dir, self.cfg.now)\n",
    "        self.log_dir = os.path.join(self.cfg.log_dir, self.cfg.now)\n",
    "\n",
    "        self.client_fn = client_fn\n",
    "        self.client_selector = client_selector(self.cfg)\n",
    "        self.client_cls = client_cls\n",
    "        self.server  = self.client_cls(cfg= self.cfg, block= None, id= 0, state= None, role= AgentRole.SERVER)  # noqa: F405\n",
    "        self.trainer = trainer\n",
    "        self.loss_fn = loss_fn()\n",
    "        self.writer = writer(cfg)\n",
    "\n",
    "        self.latest_round = {}\n",
    "\n",
    "    "
   ]
  },
  {
   "cell_type": "code",
   "execution_count": null,
   "metadata": {},
   "outputs": [],
   "source": [
    "#| export\n",
    "@patch\n",
    "def run_simulation(self: FLearner):\n",
    "    res =  []\n",
    "    all_ids = self.client_selector.select()\n",
    "    \n",
    "    for t in range(1, self.cfg.n_rounds):\n",
    "        lst_active_ids = all_ids[t]\n",
    "        len_clients_ds = []\n",
    "        round_res = []\n",
    "\n",
    "        for id in lst_active_ids:\n",
    "            client = self.client_fn(self.client_cls, self.cfg, id, self.latest_round, self.loss_fn)\n",
    "            len_clients_ds.append(200) # FIX ME: this should be the length of the dataset of the client\n",
    "            self.server.communicate(client, t) \n",
    "\n",
    "            trainer = self.trainer(client) \n",
    "            client_history = trainer.train() \n",
    "            round_res.append(client_history)\n",
    "            res.append(round_res)\n",
    "\n",
    "            client.communicate(self.server, t) \n",
    "            self.latest_round[id] = t \n",
    "\n",
    "        one_model = True if self.server.cfg.agg == 'one_model' else False\n",
    "        self.server.aggregate(lst_active_ids, t, len_clients_ds, one_model= one_model) \n",
    "        \n",
    "        if one_model:\n",
    "            all_clients_ids = list(range(self.server.cfg.num_clients))\n",
    "            for id in all_clients_ids:\n",
    "                self.latest_round[id] = t\n",
    "\n",
    "        self.writer.write(round_res, t) \n",
    "        \n",
    "    self.writer.save(res)\n",
    "    self.writer.finish()\n",
    "\n",
    "    return res"
   ]
  },
  {
   "cell_type": "code",
   "execution_count": null,
   "metadata": {},
   "outputs": [],
   "source": [
    "# client_selector = BaseClientSelector(cfg)  # noqa: F405\n",
    "# client_cls = FLAgent # noqa: F405\n",
    "# server = client_cls(cfg= cfg, block= None, id= 0, state= None, role= AgentRole.SERVER)\n",
    "# latest_round = {}"
   ]
  },
  {
   "cell_type": "code",
   "execution_count": null,
   "metadata": {},
   "outputs": [],
   "source": []
  },
  {
   "cell_type": "code",
   "execution_count": null,
   "metadata": {},
   "outputs": [],
   "source": []
  },
  {
   "cell_type": "code",
   "execution_count": null,
   "metadata": {},
   "outputs": [],
   "source": []
  },
  {
   "cell_type": "code",
   "execution_count": null,
   "metadata": {},
   "outputs": [],
   "source": []
  },
  {
   "cell_type": "code",
   "execution_count": null,
   "metadata": {},
   "outputs": [],
   "source": [
    "#| hide\n",
    "import nbdev # type: ignore\n",
    "nbdev.nbdev_export() # type: ignore  # noqa: E702\n"
   ]
  }
 ],
 "metadata": {
  "kernelspec": {
   "display_name": "python3",
   "language": "python",
   "name": "python3"
  }
 },
 "nbformat": 4,
 "nbformat_minor": 4
}
