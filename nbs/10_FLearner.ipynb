{
 "cells": [
  {
   "cell_type": "markdown",
   "metadata": {},
   "source": [
    "# FLearner\n",
    "\n",
    "> The entry point that defines all other steps\n"
   ]
  },
  {
   "cell_type": "code",
   "execution_count": null,
   "metadata": {},
   "outputs": [],
   "source": [
    "#| default_exp FLearner"
   ]
  },
  {
   "cell_type": "code",
   "execution_count": null,
   "metadata": {},
   "outputs": [],
   "source": [
    "#| hide\n",
    "from nbdev.showdoc import *  "
   ]
  },
  {
   "cell_type": "markdown",
   "metadata": {},
   "source": [
    "## ToDo\n",
    "\n",
    "- Add the TextBlock and The TabularBlock.\n",
    "- Add loging using Loguru."
   ]
  },
  {
   "cell_type": "code",
   "execution_count": null,
   "metadata": {},
   "outputs": [],
   "source": [
    "#| export\n",
    "import os\n",
    "from datetime import datetime\n",
    "from omegaconf import OmegaConf\n",
    "import argparse\n",
    "import yaml\n",
    "from copy import deepcopy\n",
    "import numpy as np\n",
    "import torch\n",
    "from torch import nn\n",
    "from fastcore.utils import * \n",
    "from fedai.federated.agents import * \n",
    "from fedai.learner_utils import * \n",
    "from fedai.client_selector import *  \n",
    "from fedai.core import get_cfg  \n",
    "from fedai.wandb_writer import *  "
   ]
  },
  {
   "cell_type": "code",
   "execution_count": null,
   "metadata": {},
   "outputs": [],
   "source": [
    "#| export\n",
    "def client_fn(client_cls, cfg, id, latest_round, t, loss_fn = None, optimizer = None, state_dir= None):\n",
    "    \n",
    "    model = get_model(cfg)\n",
    "    criterion = get_criterion(loss_fn)\n",
    "    train_block, test_block = get_block(cfg, id), get_block(cfg, id, train=False)\n",
    "\n",
    "    state = {'model': model, 'optimizer': None, 'criterion': criterion, 't': t, 'h': None, 'h_c': None, \"pers_model\": None}\n",
    "\n",
    "    \n",
    "    if t == 1 and cfg.client_cls == \"pFedMe\" and cfg.agg  != \"one_model\":\n",
    "        state = load_state_from_disk(cfg, state, latest_round, id, t, state_dir)  \n",
    "\n",
    "    if t == 1:\n",
    "        state['w0'] = deepcopy(state['model'])\n",
    "        \n",
    "    if t > 1:\n",
    "        state = load_state_from_disk(cfg, state, latest_round, id, t, state_dir)  \n",
    "        \n",
    "\n",
    "    state['optimizer'] = get_cls(\"torch.optim\", cfg.optimizer.name)(state['model'].parameters(), lr=cfg.optimizer.lr)      \n",
    "    \n",
    "    return client_cls(id, cfg, state, block= [train_block, test_block])\n",
    "\n"
   ]
  },
  {
   "cell_type": "code",
   "execution_count": null,
   "metadata": {},
   "outputs": [],
   "source": [
    "#| export\n",
    "class FLearner:\n",
    "    def __init__(self,\n",
    "                 cfg, # OmegaConf object\n",
    "                 client_fn, # a function that returns a client object\n",
    "                 client_selector= BaseClientSelector, # a client selection class represnting a client seleection algorithm # noqa: F405\n",
    "                 client_cls= FLAgent,  # noqa: F405\n",
    "                 loss_fn= torch.nn.CrossEntropyLoss,  # noqa: F405\n",
    "                 writer= WandbWriter): # a writer to write results to an expirement tracking tool # noqa: F405\n",
    "        \n",
    "        self.cfg = cfg\n",
    "        self.cfg.random_seed = np.random.randint(0, 100000)\n",
    "        cfg.root_dir = os.path.join(cfg.root_dir, cfg.project_name, cfg.client_cls)\n",
    "        \n",
    "        self.cfg.save_dir = os.path.join(self.cfg.root_dir, self.cfg.now, self.cfg.save_dir)\n",
    "        self.cfg.log_dir = os.path.join(self.cfg.root_dir, self.cfg.now, self.cfg.log_dir)\n",
    "        self.cfg.res_dir = os.path.join(self.cfg.root_dir, self.cfg.now, self.cfg.res_dir)\n",
    "\n",
    "        self.client_fn = client_fn\n",
    "        \n",
    "        self.client_selector = client_selector(self.cfg)\n",
    "        self.client_cls = client_cls\n",
    "        self.loss_fn = loss_fn()\n",
    "        self.writer = writer(cfg)\n",
    "        self.server  = self.client_cls(cfg= self.cfg, block= None, id= -1, state= None, role= AgentRole.SERVER)  # noqa: F405\n",
    "        self.server.server_init(self.client_fn, self.client_selector, self.client_cls, self.loss_fn, self.writer)\n",
    "    "
   ]
  },
  {
   "cell_type": "code",
   "execution_count": null,
   "metadata": {},
   "outputs": [],
   "source": [
    "#| export\n",
    "@patch\n",
    "def run_simulation(self: FLearner):\n",
    "    self.server.runFL()"
   ]
  },
  {
   "cell_type": "code",
   "execution_count": null,
   "metadata": {},
   "outputs": [],
   "source": [
    "#| hide\n",
    "import nbdev \n",
    "nbdev.nbdev_export()\n"
   ]
  }
 ],
 "metadata": {
  "kernelspec": {
   "display_name": "python3",
   "language": "python",
   "name": "python3"
  }
 },
 "nbformat": 4,
 "nbformat_minor": 4
}
