{
 "cells": [
  {
   "cell_type": "markdown",
   "metadata": {},
   "source": [
    "# Models\n",
    "\n",
    "> Fill in a module description here\n"
   ]
  },
  {
   "cell_type": "code",
   "execution_count": null,
   "metadata": {},
   "outputs": [],
   "source": [
    "#| default_exp FLearner"
   ]
  },
  {
   "cell_type": "code",
   "execution_count": null,
   "metadata": {},
   "outputs": [],
   "source": [
    "#| hide\n",
    "from nbdev.showdoc import *  # noqa: F403"
   ]
  },
  {
   "cell_type": "markdown",
   "metadata": {},
   "source": [
    "## ToDo\n",
    "\n",
    "- Integrate a wandb Writer object to save the training results.\n",
    "- Add the TextBlock and The TabularBlock.\n",
    "- Add loging using Loguru."
   ]
  },
  {
   "cell_type": "code",
   "execution_count": null,
   "metadata": {},
   "outputs": [],
   "source": [
    "#| export\n",
    "import torch\n",
    "import os\n",
    "from datetime import datetime\n",
    "import argparse\n",
    "from fedai.federated.agents import * # noqa: F403\n",
    "from fedai.learner_utils import * # type: ignore # noqa: F403\n",
    "from fedai.client_selector import *  # noqa: F403\n",
    "from fedai.trainers import *  # noqa: F403\n",
    "from fedai.core import get_cfg  # noqa: F401, F403\n",
    "from fedai.wnadb_writer import *  # noqa: F403"
   ]
  },
  {
   "cell_type": "code",
   "execution_count": null,
   "metadata": {},
   "outputs": [],
   "source": [
    "#| export\n",
    "class FLearner:\n",
    "    def __init__(self,\n",
    "                 cfg, # OmegaConf object\n",
    "                 client_fn, # a function that returns a client object\n",
    "                 client_selector= BaseClientSelector, # noqa: F405\n",
    "                 client_cls= FLAgent,  # noqa: F405\n",
    "                 trainer = Trainer,  # noqa: F405\n",
    "                 loss_fn= torch.nn.CrossEntropyLoss,  # noqa: F405\n",
    "                 writer= WandbWriter): # a writer to write results to an expirement tracking tool # noqa: F405\n",
    "        \n",
    "        self.cfg = cfg\n",
    "        self.cfg.now = datetime.now().strftime(\"%Y%m%d_%H%M%S\")\n",
    "        self.cfg.save_dir = os.path.join(self.cfg.save_dir, self.cfg.now)\n",
    "        self.log_dir = os.path.join(self.cfg.log_dir, self.cfg.now)\n",
    "\n",
    "        self.client_fn = client_fn\n",
    "        self.client_selector = client_selector(self.cfg)\n",
    "        self.client_cls = client_cls\n",
    "        self.server  = self.client_cls(cfg= self.cfg, block= None, id= 0, state= None, role= AgentRole.SERVER)  # noqa: F405\n",
    "        self.trainer = trainer\n",
    "        self.loss_fn = loss_fn()\n",
    "        self.writer = writer(cfg) # noqa: F405\n",
    "\n",
    "        self.latest_round = {}\n",
    "\n",
    "    def run_simulation(self):\n",
    "        res =  []\n",
    "        all_ids = self.client_selector.select()\n",
    "        \n",
    "        for t in range(1, self.cfg.n_rounds):\n",
    "            lst_active_ids = all_ids[t]\n",
    "            len_clients_ds = []\n",
    "\n",
    "            for id in lst_active_ids:\n",
    "                client = self.client_fn(self.client_cls, self.cfg, id, self.latest_round, self.loss_fn)\n",
    "                len_clients_ds.append(200) # FIX ME: this should be the length of the dataset of the client\n",
    "                self.server.communicate(client, t) # read from the disk\n",
    "                \n",
    "                trainer = self.trainer(client) # the trainer object takes a client and make local training on its dataset.\n",
    "                client_history = trainer.train() # actual training loop\n",
    "                res.append(client_history)\n",
    "\n",
    "                client.communicate(self.server, t) # save the state of the client to the disk\n",
    "                self.latest_round[id] = t # make sure you tell the client_fn where to look\n",
    "\n",
    "            one_model = True if self.server.cfg.agg == 'one_model' else False\n",
    "            self.server.aggregate(lst_active_ids, t, len_clients_ds, one_model= one_model) # aggregate the models of the clients\n",
    "            \n",
    "            if one_model:\n",
    "                all_clients_ids = list(range(self.server.cfg.num_clients))\n",
    "                for id in all_clients_ids:\n",
    "                    self.latest_round[id] = t\n",
    "\n",
    "            self.writer.write(res, t) # write the results to the disk\n",
    "        \n",
    "        # flush the writer and finish the experiment\n",
    "        self.writer.finish()\n",
    "        return res"
   ]
  },
  {
   "cell_type": "code",
   "execution_count": null,
   "metadata": {},
   "outputs": [],
   "source": [
    "# client_selector = BaseClientSelector(cfg)  # noqa: F405\n",
    "# client_cls = FLAgent # noqa: F405\n",
    "# server = client_cls(cfg= cfg, block= None, id= 0, state= None, role= AgentRole.SERVER)\n",
    "# latest_round = {}"
   ]
  },
  {
   "cell_type": "code",
   "execution_count": null,
   "metadata": {},
   "outputs": [],
   "source": []
  },
  {
   "cell_type": "code",
   "execution_count": null,
   "metadata": {},
   "outputs": [],
   "source": []
  },
  {
   "cell_type": "code",
   "execution_count": null,
   "metadata": {},
   "outputs": [],
   "source": []
  },
  {
   "cell_type": "code",
   "execution_count": null,
   "metadata": {},
   "outputs": [],
   "source": []
  },
  {
   "cell_type": "code",
   "execution_count": null,
   "metadata": {},
   "outputs": [],
   "source": [
    "#| hide\n",
    "import nbdev\n",
    "nbdev.nbdev_export() # type: ignore  # noqa: E702\n"
   ]
  }
 ],
 "metadata": {
  "kernelspec": {
   "display_name": "python3",
   "language": "python",
   "name": "python3"
  }
 },
 "nbformat": 4,
 "nbformat_minor": 4
}
