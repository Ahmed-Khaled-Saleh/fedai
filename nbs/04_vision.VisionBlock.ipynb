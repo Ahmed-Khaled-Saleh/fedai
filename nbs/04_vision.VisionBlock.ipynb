{
 "cells": [
  {
   "cell_type": "markdown",
   "metadata": {},
   "source": [
    "# VisionBlock\n",
    "\n",
    "> Fill in a module description here\n"
   ]
  },
  {
   "cell_type": "code",
   "execution_count": null,
   "metadata": {},
   "outputs": [],
   "source": [
    "#| default_exp vision.VisionBlock"
   ]
  },
  {
   "cell_type": "code",
   "execution_count": null,
   "metadata": {},
   "outputs": [],
   "source": [
    "#| hide\n",
    "from nbdev.showdoc import *"
   ]
  },
  {
   "cell_type": "code",
   "execution_count": null,
   "metadata": {},
   "outputs": [],
   "source": [
    "#| export\n",
    "import numpy as np\n",
    "import os\n",
    "import sys\n",
    "import random\n",
    "import h5py\n",
    "import torch\n",
    "import torchvision\n",
    "from sklearn.model_selection import train_test_split\n",
    "import ujson\n",
    "import torchvision.transforms as transforms\n",
    "from fastcore.utils import *\n",
    "from fedai.utils import *\n",
    "from fedai.vision.downloader import *"
   ]
  },
  {
   "cell_type": "code",
   "execution_count": null,
   "metadata": {},
   "outputs": [],
   "source": [
    "#| export\n",
    "random.seed(42)\n",
    "np.random.seed(42)\n",
    "torch.manual_seed(42)"
   ]
  },
  {
   "cell_type": "code",
   "execution_count": null,
   "metadata": {},
   "outputs": [],
   "source": [
    "#| export\n",
    "class VisionBlock(torch.utils.data.Dataset):\n",
    "    def __init__(self, cfg, train= True, download= True, transform=None):\n",
    "        self.cfg = cfg\n",
    "        self.config_path = os.path.join(self.cfg.data.dir_path, self.cfg.data.name , \"config.json\")\n",
    "        self.train_path = os.path.join(self.cfg.data.dir_path, self.cfg.data.name , \"train\")\n",
    "        self.test_path = os.path.join(self.cfg.data.dir_path, self.cfg.data.name, \"test\")\n",
    "        self.train = train\n",
    "        self.downloader = VisionDownloader(self.cfg, transform)\n",
    "        if download:\n",
    "            self.download_data()\n",
    "\n",
    "        del self.downloader\n",
    "        import gc\n",
    "        gc.collect()\n",
    "\n",
    "    def download_data(self):\n",
    "        if isinstance(self.downloader.dataset_content, (list, tuple, np.ndarray)):\n",
    "            train_data, test_data, stats = self.downloader.partition()\n",
    "            print('saving')\n",
    "            self.downloader.save_partitions(train_data, test_data, stats)\n",
    "            \n",
    "    def tensorify(self, data):\n",
    "        X = torch.Tensor(data['x']).type(torch.float32)\n",
    "        y = torch.Tensor(data['y']).type(torch.int64)\n",
    "        return {'x': X, 'y': y}\n",
    "\n",
    "    def load_single_client_data(self, idx):\n",
    "        path, dir = (self.train_path, 'train') if self.train else (self.test_path, 'test')\n",
    "        with h5py.File(os.path.join(path, f'{dir}_data.h5'), 'r') as hf_file:\n",
    "            client_data = hf_file[f'client_{idx}']\n",
    "            data = {key: client_data[key][:] for key in client_data.keys()}\n",
    "            data = self.tensorify(data)\n",
    "        return data\n",
    "    \n",
    "    def __getitem__(self, idx):\n",
    "        if idx < 0: # manage minus idx\n",
    "            idx = len(self) + idx\n",
    "        return self.load_single_client_data(idx)\n",
    "    \n",
    "    def __len__(self):\n",
    "        path, dir = (self.train_path, 'train') if self.train else (self.test_path, 'test')\n",
    "        with h5py.File(os.path.join(path, f'{dir}_data.h5'), 'r') as hf_file:\n",
    "            return len(hf_file.keys())"
   ]
  },
  {
   "cell_type": "code",
   "execution_count": null,
   "metadata": {},
   "outputs": [],
   "source": []
  },
  {
   "cell_type": "code",
   "execution_count": null,
   "metadata": {},
   "outputs": [],
   "source": []
  },
  {
   "cell_type": "code",
   "execution_count": null,
   "metadata": {},
   "outputs": [],
   "source": []
  },
  {
   "cell_type": "code",
   "execution_count": null,
   "metadata": {},
   "outputs": [],
   "source": []
  },
  {
   "cell_type": "code",
   "execution_count": null,
   "metadata": {},
   "outputs": [],
   "source": []
  },
  {
   "cell_type": "code",
   "execution_count": null,
   "metadata": {},
   "outputs": [],
   "source": [
    "#| hide\n",
    "import nbdev\n",
    "nbdev.nbdev_export()"
   ]
  }
 ],
 "metadata": {
  "kernelspec": {
   "display_name": "python3",
   "language": "python",
   "name": "python3"
  }
 },
 "nbformat": 4,
 "nbformat_minor": 4
}
