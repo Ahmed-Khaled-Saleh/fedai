{
 "cells": [
  {
   "cell_type": "markdown",
   "metadata": {},
   "source": [
    "# Models\n",
    "\n",
    "> Fill in a module description here\n"
   ]
  },
  {
   "cell_type": "code",
   "execution_count": null,
   "metadata": {},
   "outputs": [],
   "source": [
    "#| default_exp vision.models"
   ]
  },
  {
   "cell_type": "code",
   "execution_count": null,
   "metadata": {},
   "outputs": [],
   "source": [
    "#| hide\n",
    "from nbdev.showdoc import *  # noqa: F403"
   ]
  },
  {
   "cell_type": "code",
   "execution_count": null,
   "metadata": {},
   "outputs": [],
   "source": [
    "#| export\n",
    "from fastcore.utils import *  # noqa: F403\n",
    "from torch import nn\n",
    "import torch.nn.functional as F\n",
    "import torch\n",
    "from peft import *  # noqa: F403"
   ]
  },
  {
   "cell_type": "markdown",
   "metadata": {},
   "source": [
    "## MNIST models"
   ]
  },
  {
   "cell_type": "code",
   "execution_count": null,
   "metadata": {},
   "outputs": [],
   "source": [
    "# class MNISTCNNEncoder(nn.Module):\n",
    "#     def __init__(self, in_channels=1, args=None):\n",
    "#         super(MNISTCNNEncoder, self).__init__()\n",
    "#         self.conv1 = nn.Conv2d(in_channels, 10, kernel_size=5)\n",
    "#         self.conv2 = nn.Conv2d(10, 20, kernel_size=5)\n",
    "#         self.conv2_drop = nn.Dropout2d()\n",
    "#         self.fc1 = nn.Linear(320, 50)\n",
    "#         # self.fc2 = nn.Linear(50, 10)\n",
    "\n",
    "#     def forward(self, x):\n",
    "#         x = F.relu(F.max_pool2d(self.conv1(x), 2))\n",
    "#         x = F.relu(F.max_pool2d(self.conv2_drop(self.conv2(x)), 2))\n",
    "#         x = x.view(-1, x.shape[1]*x.shape[2]*x.shape[3])\n",
    "#         x = F.relu(self.fc1(x))\n",
    "#         return x\n",
    "        # x = F.dropout(x, training=self.training)\n",
    "        # x = self.fc2(x)"
   ]
  },
  {
   "cell_type": "code",
   "execution_count": null,
   "metadata": {},
   "outputs": [],
   "source": [
    "#| export\n",
    "class MNISTCNNEncoder(nn.Module):\n",
    "    def __init__(self, in_channels=1, img_size=28, hidden_dim=512):\n",
    "        super(MNISTCNNEncoder, self).__init__()\n",
    "        self.conv1 = nn.Conv2d(in_channels, 32, kernel_size=5, stride=1, padding=2)\n",
    "        self.conv2 = nn.Conv2d(32, 64, kernel_size=5, stride=1, padding=2)\n",
    "        self.pool = nn.MaxPool2d(kernel_size=2, stride=2)\n",
    "\n",
    "        final_size = img_size // 2 // 2\n",
    "        self.fc1 = nn.Linear(64 * final_size * final_size, hidden_dim)\n",
    "        self.relu = nn.ReLU()\n",
    "\n",
    "    def forward(self, x):\n",
    "        x = self.relu(self.conv1(x))\n",
    "        x = self.pool(x)\n",
    "        x = self.relu(self.conv2(x))\n",
    "        x = self.pool(x)\n",
    "        x = x.reshape(x.size(0), -1)# x.view(x.size(0), -1)  # Flatten\n",
    "        x = self.fc1(x)\n",
    "        return x\n",
    "    \n",
    "\n",
    "# Classification Head Model\n",
    "class MNISTCNNClassificationHead(nn.Module):\n",
    "    def __init__(self, hidden_dim= 512, num_classes=10):\n",
    "        super(MNISTCNNClassificationHead, self).__init__()\n",
    "        self.fc2 = nn.Linear(hidden_dim, num_classes)\n",
    "        self.dropout = nn.Dropout(0.5) \n",
    "\n",
    "    def forward(self, x):\n",
    "        x = self.dropout(x)\n",
    "        x = self.fc2(x)\n",
    "        return x\n",
    "    \n",
    "\n",
    "\n",
    "class MNISTCNN(nn.Module):\n",
    "    def __init__(self, in_channels=1, img_size= 28, hidden_dim=512, num_classes=10):\n",
    "        super(MNISTCNN, self).__init__()\n",
    "        self.in_channels = in_channels\n",
    "        self.encoder = MNISTCNNEncoder(in_channels=in_channels, img_size= img_size, hidden_dim=hidden_dim)\n",
    "        self.classifier = MNISTCNNClassificationHead(hidden_dim= hidden_dim, num_classes= num_classes)\n",
    "\n",
    "    def forward(self, x):\n",
    "        if x.ndim == 4 and x.shape[1] not in (1, 3) and x.shape[-1] in (1, 3):\n",
    "            x = x.permute(0, 3, 1, 2)\n",
    "        x = self.encoder(x)\n",
    "        x = self.classifier(x)\n",
    "        return x\n",
    "    "
   ]
  },
  {
   "cell_type": "code",
   "execution_count": null,
   "metadata": {},
   "outputs": [
    {
     "name": "stdout",
     "output_type": "stream",
     "text": [
      "torch.Size([1, 512])\n",
      "torch.Size([1, 10])\n"
     ]
    }
   ],
   "source": [
    "#| hide\n",
    "inp = torch.randn(1, 3, 32, 32)  # Example input\n",
    "enc = MNISTCNNEncoder(in_channels=3, img_size=32, hidden_dim=512)\n",
    "\n",
    "print(enc(inp).shape)\n",
    "model = MNISTCNN(in_channels=3, img_size=32, hidden_dim=512, num_classes=10)\n",
    "out = model(inp)\n",
    "print(out.shape)  # Should print torch.Size([1, 10])"
   ]
  },
  {
   "cell_type": "markdown",
   "metadata": {},
   "source": [
    "## CIFAR10 models"
   ]
  },
  {
   "cell_type": "code",
   "execution_count": null,
   "metadata": {},
   "outputs": [],
   "source": [
    "#| export\n",
    "import torch\n",
    "import torch.nn as nn\n",
    "import numpy as np\n",
    "import random\n",
    "\n",
    "torch.manual_seed(42)  \n",
    "np.random.seed(42)\n",
    "random.seed(42)\n",
    "\n",
    "# Encoder Model\n",
    "class CIFAR10Encoder(nn.Module):\n",
    "    def __init__(self, in_channels=3, img_size= 3, hidden_dim=512):\n",
    "        super(CIFAR10Encoder, self).__init__()\n",
    "        self.conv1 = nn.Conv2d(in_channels, 32, kernel_size=3, stride=1, padding=1)\n",
    "        self.conv2 = nn.Conv2d(32, 64, kernel_size=3, stride=1, padding=1)\n",
    "        self.conv3 = nn.Conv2d(64, 128, kernel_size=3, stride=1, padding=1)\n",
    "        self.pool = nn.MaxPool2d(kernel_size=2, stride=2)\n",
    "        self.relu = nn.ReLU()\n",
    "\n",
    "        # Compute the flattened size dynamically at initialization\n",
    "        final_size = img_size // 2 // 2 // 2  # 3 pool layers divide the size by 2 three times\n",
    "        self.fc1 = nn.Linear(128 * final_size * final_size, hidden_dim)\n",
    "\n",
    "\n",
    "    def forward(self, x):\n",
    "        x = self.pool(self.relu(self.conv1(x)))\n",
    "        x = self.pool(self.relu(self.conv2(x)))\n",
    "        x = self.pool(self.relu(self.conv3(x)))\n",
    "        x = x.view(x.size(0), -1)  # Flatten\n",
    "        x = self.relu(self.fc1(x))\n",
    "        return x\n",
    "\n",
    "# Classification Head Model\n",
    "class CIFAR10ClassificationHead(nn.Module):\n",
    "    def __init__(self, hidden_dim= 512, num_classes=10):\n",
    "        super(CIFAR10ClassificationHead, self).__init__()\n",
    "        self.fc2 = nn.Linear(hidden_dim, num_classes)\n",
    "        self.dropout = nn.Dropout(0.5) \n",
    "\n",
    "    def forward(self, x):\n",
    "        x = self.dropout(x)\n",
    "        x = self.fc2(x)\n",
    "        return x\n",
    "\n",
    "class CIFAR10Model(nn.Module):\n",
    "    def __init__(self, in_channels=3, img_size= 3, hidden_dim=512, num_classes=10):\n",
    "        super(CIFAR10Model, self).__init__()\n",
    "        self.encoder = CIFAR10Encoder(in_channels=in_channels, img_size= img_size, hidden_dim=hidden_dim)\n",
    "        self.classifier = CIFAR10ClassificationHead(hidden_dim= hidden_dim, num_classes= num_classes)\n",
    "\n",
    "    def forward(self, x):\n",
    "        x = self.encoder(x)\n",
    "        x = self.classifier(x)\n",
    "        return x\n"
   ]
  },
  {
   "cell_type": "code",
   "execution_count": null,
   "metadata": {},
   "outputs": [
    {
     "name": "stdout",
     "output_type": "stream",
     "text": [
      "torch.Size([1, 100])\n"
     ]
    }
   ],
   "source": [
    "#| hide\n",
    "model = CIFAR10Model(in_channels=3, img_size= 32,hidden_dim=1024, num_classes=100)\n",
    "inp = torch.randn(1, 3, 32, 32)\n",
    "out = model(inp)\n",
    "print(out.shape)  # Should output torch.Size([1, 512])\n"
   ]
  },
  {
   "cell_type": "code",
   "execution_count": null,
   "metadata": {},
   "outputs": [],
   "source": []
  },
  {
   "cell_type": "code",
   "execution_count": null,
   "metadata": {},
   "outputs": [],
   "source": [
    "#| hide\n",
    "import nbdev; nbdev.nbdev_export()"
   ]
  }
 ],
 "metadata": {
  "kernelspec": {
   "display_name": "python3",
   "language": "python",
   "name": "python3"
  }
 },
 "nbformat": 4,
 "nbformat_minor": 4
}
