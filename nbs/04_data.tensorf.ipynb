{
 "cells": [
  {
   "cell_type": "markdown",
   "metadata": {},
   "source": [
    "# data.tensorf\n",
    "\n",
    "> Fill in a module description here\n"
   ]
  },
  {
   "cell_type": "code",
   "execution_count": null,
   "metadata": {},
   "outputs": [],
   "source": [
    "#| default_exp data.tensorf"
   ]
  },
  {
   "cell_type": "code",
   "execution_count": null,
   "metadata": {},
   "outputs": [],
   "source": [
    "#| hide\n",
    "from nbdev.showdoc import *"
   ]
  },
  {
   "cell_type": "code",
   "execution_count": null,
   "metadata": {},
   "outputs": [],
   "source": [
    "#| export\n",
    "import numpy as np\n",
    "import os\n",
    "import sys\n",
    "import random\n",
    "import torch\n",
    "import torchvision\n",
    "from sklearn.model_selection import train_test_split\n",
    "import ujson\n",
    "import torchvision.transforms as transforms\n",
    "from fastcore.utils import *\n",
    "from fedai.utils import *"
   ]
  },
  {
   "cell_type": "code",
   "execution_count": null,
   "metadata": {},
   "outputs": [],
   "source": [
    "#| export\n",
    "random.seed(42)\n",
    "np.random.seed(42)\n",
    "torch.manual_seed(42)"
   ]
  },
  {
   "cell_type": "code",
   "execution_count": null,
   "metadata": {},
   "outputs": [],
   "source": [
    "#| export\n",
    "class TensorF(torch.utils.data.Dataset):\n",
    "    def __init__(self, cfg, client_idx, train= True):\n",
    "        self.cfg = cfg\n",
    "        self.config_path = self.cfg.data.dir_path + \"config.json\"\n",
    "        self.train_path = self.cfg.data.dir_path + \"train/\"\n",
    "        self.test_path = self.cfg.data.dir_path + \"test/\"\n",
    "        self.train = train\n",
    "        self.data_dict = self.load_single_client_data(client_idx)\n",
    "\n",
    "    def tensorify(self, data):\n",
    "        X = torch.Tensor(data['x']).type(torch.float32)\n",
    "        y = torch.Tensor(data['y']).type(torch.int64)\n",
    "        return {'x': X, 'y': y}\n",
    "\n",
    "    def load_single_client_data(self, idx):\n",
    "        data_dir = os.path.join(self.train_path) if self.train else os.path.join(self.test_path)\n",
    "\n",
    "        data_file = os.path.join(data_dir, str(idx) + '.npz')\n",
    "        with open(data_file, 'rb') as f:\n",
    "            data = np.load(f, allow_pickle= True)['data'].tolist()\n",
    "        \n",
    "        data_dict = self.tensorify(data)\n",
    "\n",
    "        return data_dict\n",
    "\n",
    "    def __getitem__(self, index):\n",
    "        return self.data_dict['x'][index], self.data_dict['y'][index]\n",
    "\n",
    "    def __len__(self):\n",
    "        return len(self.data_dict['x'])"
   ]
  },
  {
   "cell_type": "code",
   "execution_count": null,
   "metadata": {},
   "outputs": [],
   "source": [
    "#| hide\n",
    "path = '/home/ahmed/Ahmed-home/1- Projects/Research/publications/2024/letter 1/code/PFLlib/dataset/Cifar10/'\n",
    "from omegaconf import DictConfig, OmegaConf\n",
    "import argparse\n",
    "import os\n",
    "args = dict()\n",
    "args['data']= dict()\n",
    "args['data']['dir_path'] = path\n",
    "args = argparse.Namespace(**args)\n",
    "\n",
    "cfg = OmegaConf.create(vars(args))\n"
   ]
  },
  {
   "cell_type": "code",
   "execution_count": null,
   "metadata": {},
   "outputs": [],
   "source": [
    "#| hide\n",
    "train_ds = TensorF(cfg, 0, train=True)\n",
    "train_ds[0][0].shape, train_ds[0][1].item()\n"
   ]
  },
  {
   "cell_type": "code",
   "execution_count": null,
   "metadata": {},
   "outputs": [
    {
     "data": {
      "text/plain": [
       "(torch.Size([3, 32, 32]), 9)"
      ]
     },
     "execution_count": null,
     "metadata": {},
     "output_type": "execute_result"
    }
   ],
   "source": []
  },
  {
   "cell_type": "code",
   "execution_count": null,
   "metadata": {},
   "outputs": [],
   "source": []
  },
  {
   "cell_type": "code",
   "execution_count": null,
   "metadata": {},
   "outputs": [],
   "source": []
  },
  {
   "cell_type": "code",
   "execution_count": null,
   "metadata": {},
   "outputs": [],
   "source": []
  },
  {
   "cell_type": "code",
   "execution_count": null,
   "metadata": {},
   "outputs": [],
   "source": []
  },
  {
   "cell_type": "code",
   "execution_count": null,
   "metadata": {},
   "outputs": [],
   "source": []
  },
  {
   "cell_type": "code",
   "execution_count": null,
   "metadata": {},
   "outputs": [],
   "source": [
    "#| hide\n",
    "import nbdev\n",
    "nbdev.nbdev_export()"
   ]
  }
 ],
 "metadata": {
  "kernelspec": {
   "display_name": "python3",
   "language": "python",
   "name": "python3"
  }
 },
 "nbformat": 4,
 "nbformat_minor": 4
}
