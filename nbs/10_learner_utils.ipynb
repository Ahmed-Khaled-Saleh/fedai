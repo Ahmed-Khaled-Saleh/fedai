{
 "cells": [
  {
   "cell_type": "markdown",
   "metadata": {},
   "source": [
    "# Models\n",
    "\n",
    "> Fill in a module description here\n"
   ]
  },
  {
   "cell_type": "code",
   "execution_count": null,
   "metadata": {},
   "outputs": [],
   "source": [
    "#| default_exp learner_utils"
   ]
  },
  {
   "cell_type": "code",
   "execution_count": null,
   "metadata": {},
   "outputs": [],
   "source": [
    "#| hide\n",
    "from nbdev.showdoc import *  # type: ignore # noqa: F403"
   ]
  },
  {
   "cell_type": "code",
   "execution_count": null,
   "metadata": {},
   "outputs": [],
   "source": [
    "#| export\n",
    "import os\n",
    "import torch.nn as nn\n",
    "import torch\n",
    "from fedai.vision.VisionBlock import VisionBlock\n",
    "from fedai.vision.models import *\n",
    "from fedai.text.models import *\n",
    "from fedai.models import * # noqa: F403\n",
    "from peft import *  # type: ignore # noqa: F403\n"
   ]
  },
  {
   "cell_type": "code",
   "execution_count": null,
   "metadata": {},
   "outputs": [],
   "source": [
    "#| export\n",
    "def get_block(cfg, id, train=True):\n",
    "    block = VisionBlock if cfg.data.modality == ['Vision'] else None\n",
    "    return block(cfg, id, train=train)"
   ]
  },
  {
   "cell_type": "code",
   "execution_count": null,
   "metadata": {},
   "outputs": [],
   "source": [
    "#| export\n",
    "def get_model(cfg):\n",
    "    model_name = cfg.model.name\n",
    "\n",
    "    # Check if the model name contains \"hf://\"\n",
    "    if model_name.startswith(\"hf://\"):\n",
    "        return get_hf_model(cfg)  # type: ignore # Call your HF model loader function  # noqa: F405\n",
    "\n",
    "    # Define the rest of the model mapping\n",
    "    mapping = {\n",
    "        \"MNISTCNN\": MNISTCNN(num_classes=10),  # noqa: F405 # type: ignore\n",
    "        \"CIFAR10CNN\": CIFAR10CNN(num_classes=10),  # noqa: F405 # type: ignore\n",
    "        \n",
    "        \"MLP\": MLP(  # noqa: F405\n",
    "            dim_in=cfg.model.dim_in, \n",
    "            dim_hidden=cfg.model.dim_hidden, \n",
    "            dim_out=cfg.model.dim_out\n",
    "            ),\n",
    "\n",
    "        \"CharacterLSTM\": CharacterLSTM(  # noqa: F405 # type: ignore\n",
    "            vocab_size=cfg.model.vocab_size,\n",
    "            embed_size=cfg.model.embed_size,\n",
    "            hidden_size=cfg.model.hidden_size,\n",
    "            num_layers=cfg.model.num_layers\n",
    "        )\n",
    "    }\n",
    "\n",
    "    # Look up the model in the mapping\n",
    "    if model_name in mapping:\n",
    "        return mapping[model_name]\n",
    "    \n",
    "    raise ValueError(f\"Model '{model_name}' is not recognized, the available models are: {list(mapping.keys())}\")\n"
   ]
  },
  {
   "cell_type": "code",
   "execution_count": null,
   "metadata": {},
   "outputs": [],
   "source": [
    "#| export\n",
    "def get_criterion(customm_fn):\n",
    "    if customm_fn:\n",
    "        return customm_fn\n",
    "    else:\n",
    "        raise ValueError(\"No criterion function provided\")"
   ]
  },
  {
   "cell_type": "code",
   "execution_count": null,
   "metadata": {},
   "outputs": [],
   "source": [
    "#| export\n",
    "def load_state_from_disk(cfg, model, id, comm_round):\n",
    "    \n",
    "    model_path = os.path.join(cfg.save_dir,\n",
    "                              str(comm_round),\n",
    "                              f\"local_output_{id}\",\n",
    "                              \"pytorch_model.bin\")\n",
    "\n",
    "    if os.path.exists(model_path):\n",
    "        if isinstance(model, torch.nn.Module):\n",
    "            model.load_state_dict(torch.load(model_path, map_location= model))\n",
    "        else:\n",
    "            set_peft_model_state_dict(model,  # noqa: F405 # type: ignore\n",
    "                                  torch.load(model_path, map_location= model.device), \n",
    "                                  \"default\")\n",
    "    return model"
   ]
  },
  {
   "cell_type": "code",
   "execution_count": null,
   "metadata": {},
   "outputs": [],
   "source": [
    "#| export\n",
    "def client_fn(client_cls, cfg, id, latest_round, loss_fn):\n",
    "    model = get_model(cfg)\n",
    "    criterion = get_criterion(loss_fn)\n",
    "    # get train and test ds\n",
    "    train_block, test_block = get_block(cfg, id), get_block(cfg, id, train=False)\n",
    "\n",
    "    state = {'model': model, 'optimizer': None, 'criterion': criterion}\n",
    "\n",
    "    if id in latest_round:\n",
    "        comm_round = latest_round[id]\n",
    "        state['model'] = load_state_from_disk(cfg, model, id, comm_round)  # noqa: F405\n",
    "    \n",
    "    return client_cls(id, cfg, state, block= [train_block, test_block])\n"
   ]
  },
  {
   "cell_type": "code",
   "execution_count": null,
   "metadata": {},
   "outputs": [],
   "source": []
  },
  {
   "cell_type": "code",
   "execution_count": null,
   "metadata": {},
   "outputs": [],
   "source": []
  },
  {
   "cell_type": "code",
   "execution_count": null,
   "metadata": {},
   "outputs": [],
   "source": []
  },
  {
   "cell_type": "code",
   "execution_count": null,
   "metadata": {},
   "outputs": [],
   "source": []
  },
  {
   "cell_type": "code",
   "execution_count": null,
   "metadata": {},
   "outputs": [],
   "source": []
  },
  {
   "cell_type": "code",
   "execution_count": null,
   "metadata": {},
   "outputs": [],
   "source": [
    "#| hide\n",
    "import nbdev\n",
    "nbdev.nbdev_export() # type: ignore  # noqa: E702\n"
   ]
  }
 ],
 "metadata": {
  "kernelspec": {
   "display_name": "python3",
   "language": "python",
   "name": "python3"
  }
 },
 "nbformat": 4,
 "nbformat_minor": 4
}
