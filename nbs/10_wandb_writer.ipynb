{
 "cells": [
  {
   "cell_type": "markdown",
   "metadata": {},
   "source": [
    "# WandbWriter\n",
    "\n",
    "> A writer to write results to wandb.\n"
   ]
  },
  {
   "cell_type": "code",
   "execution_count": null,
   "metadata": {},
   "outputs": [],
   "source": [
    "#| default_exp wandb_writer"
   ]
  },
  {
   "cell_type": "code",
   "execution_count": null,
   "metadata": {},
   "outputs": [],
   "source": [
    "#| hide\n",
    "from nbdev.showdoc import *  # type: ignore # noqa: F403"
   ]
  },
  {
   "cell_type": "code",
   "execution_count": null,
   "metadata": {},
   "outputs": [],
   "source": [
    "#| export \n",
    "from fastcore.utils import *\n",
    "import pandas as pd\n",
    "import wandb\n",
    "import os\n",
    "import argparse"
   ]
  },
  {
   "cell_type": "code",
   "execution_count": null,
   "metadata": {},
   "outputs": [],
   "source": [
    "#| export\n",
    "class WandbWriter:\n",
    "\n",
    "    def __init__(self, cfg):\n",
    "        self.cfg = argparse.Namespace(**cfg)\n",
    "        self.exp_name = self.cfg.project_name + self.cfg.now\n",
    "        key = os.getenv(\"WANDB_API_KEY\")\n",
    "        wandb.login(key=key, verify=False)\n",
    "        self.run = wandb.init(project=self.cfg.project_name, name= self.exp_name, config=self.cfg)"
   ]
  },
  {
   "cell_type": "code",
   "execution_count": null,
   "metadata": {},
   "outputs": [],
   "source": [
    "#| export\n",
    "@patch\n",
    "def write(self: WandbWriter, lst_metrics, round):\n",
    "    table = wandb.Table(dataframe= pd.DataFrame(lst_metrics))\n",
    "    avg_metrics = {key: sum(d[key] for d in lst_metrics) / len(lst_metrics) for key in lst_metrics[0]}\n",
    "    all_metrics = {f\"Round {round} Metrics\": table}\n",
    "    all_metrics.update(avg_metrics)\n",
    "    self.run.log(all_metrics)"
   ]
  },
  {
   "cell_type": "code",
   "execution_count": null,
   "metadata": {},
   "outputs": [],
   "source": [
    "#| export   \n",
    "@patch\n",
    "def save(self: WandbWriter, res):\n",
    "    df = pd.concat([pd.DataFrame(d1) for d1 in res])\n",
    "    os.makedirs(self.cfg.res_dir, exist_ok=True)\n",
    "    df.to_csv(f\"{self.cfg.res_dir}/results.csv\", index=False)"
   ]
  },
  {
   "cell_type": "code",
   "execution_count": null,
   "metadata": {},
   "outputs": [],
   "source": [
    "#| export   \n",
    "@patch\n",
    "def finish(self: WandbWriter):\n",
    "    self.run.finish()"
   ]
  },
  {
   "cell_type": "code",
   "execution_count": null,
   "metadata": {},
   "outputs": [],
   "source": []
  },
  {
   "cell_type": "code",
   "execution_count": null,
   "metadata": {},
   "outputs": [],
   "source": [
    "#| hide\n",
    "import nbdev\n",
    "nbdev.nbdev_export() # type: ignore  # noqa: E702\n"
   ]
  }
 ],
 "metadata": {
  "kernelspec": {
   "display_name": "python3",
   "language": "python",
   "name": "python3"
  }
 },
 "nbformat": 4,
 "nbformat_minor": 4
}
