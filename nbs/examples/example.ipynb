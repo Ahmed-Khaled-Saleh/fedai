{
 "cells": [
  {
   "cell_type": "code",
   "execution_count": null,
   "metadata": {},
   "outputs": [],
   "source": [
    "%load_ext autoreload\n",
    "%autoreload 2"
   ]
  },
  {
   "cell_type": "code",
   "execution_count": null,
   "metadata": {},
   "outputs": [],
   "source": [
    "#| hide\n",
    "import yaml"
   ]
  },
  {
   "cell_type": "code",
   "execution_count": null,
   "metadata": {},
   "outputs": [],
   "source": [
    "#| hide\n",
    "def load_config(file_path):\n",
    "    with open(file_path, 'r') as file:\n",
    "        return yaml.safe_load(file)"
   ]
  },
  {
   "cell_type": "code",
   "execution_count": null,
   "metadata": {},
   "outputs": [],
   "source": [
    "#| hide\n",
    "cfg = load_config('cfg.yaml')"
   ]
  },
  {
   "cell_type": "code",
   "execution_count": null,
   "metadata": {},
   "outputs": [],
   "source": [
    "#| hide\n",
    "import os\n",
    "from omegaconf import OmegaConf\n",
    "cfg = OmegaConf.create(cfg)\n",
    "cfg.data.name = 'MNIST'\n",
    "from datetime import datetime\n",
    "cfg.save_dir = os.path.join(cfg.save_dir, \n",
    "                            datetime.now().strftime(\"%Y%m%d_%H%M%S\"))"
   ]
  },
  {
   "cell_type": "code",
   "execution_count": null,
   "metadata": {},
   "outputs": [],
   "source": [
    "import os\n",
    "import torch.nn as nn\n",
    "import torch\n",
    "from fedai.vision.VisionBlock import VisionBlock\n",
    "from fedai.utils import * # noqa: F403"
   ]
  },
  {
   "cell_type": "code",
   "execution_count": null,
   "metadata": {},
   "outputs": [],
   "source": [
    "class MLP(torch.nn.Module):\n",
    "    def __init__(self, dim_in, dim_hidden, dim_out):\n",
    "        super(MLP, self).__init__()\n",
    "        self.layer_input = nn.Linear(dim_in, dim_hidden)\n",
    "        self.relu = nn.ReLU()\n",
    "        self.dropout = nn.Dropout()\n",
    "        self.layer_hidden = nn.Linear(dim_hidden, dim_out)\n",
    "\n",
    "    def forward(self, x):\n",
    "        x = x.view(-1, x.shape[1]*x.shape[-2]*x.shape[-1])\n",
    "        x = self.layer_input(x)\n",
    "        x = self.dropout(x)\n",
    "        x = self.relu(x)\n",
    "        x = self.layer_hidden(x)\n",
    "        return x"
   ]
  },
  {
   "cell_type": "code",
   "execution_count": null,
   "metadata": {},
   "outputs": [],
   "source": [
    "def get_block(cfg, id, train=True):\n",
    "    block = VisionBlock if cfg.data.modality == ['Vision'] else None\n",
    "    return block(cfg, id, train=train)"
   ]
  },
  {
   "cell_type": "code",
   "execution_count": null,
   "metadata": {},
   "outputs": [],
   "source": [
    "def client_fn(client_cls, cfg, id, latest_round):\n",
    "    model = MLP(28*28, 128, 10)\n",
    "    criterion = torch.nn.CrossEntropyLoss()\n",
    "    train_block = get_block(cfg, id)\n",
    "    test_block = get_block(cfg, id, train=False)\n",
    "    state = {'model': model, 'optimizer': None, 'criterion': criterion}\n",
    "\n",
    "    if id in latest_round:\n",
    "        comm_round = latest_round[id]\n",
    "        state['model'] = load_state_from_disk(cfg, model, id, comm_round)\n",
    "    \n",
    "    return client_cls(id, cfg, state, block= [train_block, test_block])\n"
   ]
  },
  {
   "cell_type": "code",
   "execution_count": null,
   "metadata": {},
   "outputs": [],
   "source": [
    "from fedai.federated.agents import * # noqa: F403\n",
    "from fedai.client_selector import *  # noqa: F403\n",
    "from torch.nn.modules import CrossEntropyLoss # noqa: F403\n",
    "\n",
    "client_selector = BaseClientSelector(cfg)  # noqa: F405\n",
    "client_cls = FLAgent # noqa: F405\n",
    "server = client_cls(cfg= cfg, block= None, id= 0, state= None, role= AgentRole.SERVER)\n",
    "latest_round = {}"
   ]
  },
  {
   "cell_type": "code",
   "execution_count": null,
   "metadata": {},
   "outputs": [
    {
     "name": "stdout",
     "output_type": "stream",
     "text": [
      "data/MNIST/train data/MNIST/test\n",
      "\n",
      "Dataset already generated.\n",
      "\n",
      "data/MNIST/train data/MNIST/test\n",
      "\n",
      "Dataset already generated.\n",
      "\n"
     ]
    },
    {
     "name": "stderr",
     "output_type": "stream",
     "text": [
      "  0%|          | 0/484 [08:15<?, ?it/s]\n",
      "  0%|          | 0/484 [08:04<?, ?it/s]\n"
     ]
    },
    {
     "name": "stdout",
     "output_type": "stream",
     "text": [
      "role is AgentRole.CLIENT\n",
      "role is AgentRole.CLIENT\n",
      "data/MNIST/train data/MNIST/test\n",
      "\n",
      "Dataset already generated.\n",
      "\n",
      "data/MNIST/train data/MNIST/test\n",
      "\n",
      "Dataset already generated.\n",
      "\n"
     ]
    },
    {
     "name": "stderr",
     "output_type": "stream",
     "text": [
      "  0%|          | 0/513 [08:55<?, ?it/s]\n",
      "  0%|          | 0/513 [09:07<?, ?it/s]\n"
     ]
    },
    {
     "name": "stdout",
     "output_type": "stream",
     "text": [
      "role is AgentRole.CLIENT\n",
      "role is AgentRole.CLIENT\n",
      "role is AgentRole.SERVER\n",
      "role is AgentRole.SERVER\n",
      "data/MNIST/train data/MNIST/test\n",
      "\n",
      "Dataset already generated.\n",
      "\n",
      "data/MNIST/train data/MNIST/test\n",
      "\n",
      "Dataset already generated.\n",
      "\n"
     ]
    },
    {
     "name": "stderr",
     "output_type": "stream",
     "text": [
      "/home/ahmed/Ahmed-home/1- Projects/fedai/fedai/federated/agents.py:145: FutureWarning: You are using `torch.load` with `weights_only=False` (the current default value), which uses the default pickle module implicitly. It is possible to construct malicious pickle data which will execute arbitrary code during unpickling (See https://github.com/pytorch/pytorch/blob/main/SECURITY.md#untrusted-models for more details). In a future release, the default value for `weights_only` will be flipped to `True`. This limits the functions that could be executed during unpickling. Arbitrary objects will no longer be allowed to be loaded via this mode unless they are explicitly allowlisted by the user via `torch.serialization.add_safe_globals`. We recommend you start setting `weights_only=True` for any use case where you don't have full control of the loaded file. Please open an issue on GitHub for any issues related to this experimental feature.\n",
      "  client_state_dict = torch.load(model_path, map_location='cpu')\n",
      "  0%|          | 0/264 [04:41<?, ?it/s]\n",
      "  0%|          | 0/264 [04:27<?, ?it/s]\n"
     ]
    },
    {
     "name": "stdout",
     "output_type": "stream",
     "text": [
      "role is AgentRole.CLIENT\n",
      "role is AgentRole.CLIENT\n",
      "data/MNIST/train data/MNIST/test\n",
      "\n",
      "Dataset already generated.\n",
      "\n",
      "data/MNIST/train data/MNIST/test\n",
      "\n",
      "Dataset already generated.\n",
      "\n"
     ]
    },
    {
     "name": "stderr",
     "output_type": "stream",
     "text": [
      "  0%|          | 0/97 [01:42<?, ?it/s]\n",
      "  0%|          | 0/97 [01:42<?, ?it/s]\n"
     ]
    },
    {
     "name": "stdout",
     "output_type": "stream",
     "text": [
      "role is AgentRole.CLIENT\n",
      "role is AgentRole.CLIENT\n",
      "role is AgentRole.SERVER\n",
      "role is AgentRole.SERVER\n"
     ]
    },
    {
     "name": "stderr",
     "output_type": "stream",
     "text": [
      "/home/ahmed/Ahmed-home/1- Projects/fedai/fedai/federated/agents.py:145: FutureWarning: You are using `torch.load` with `weights_only=False` (the current default value), which uses the default pickle module implicitly. It is possible to construct malicious pickle data which will execute arbitrary code during unpickling (See https://github.com/pytorch/pytorch/blob/main/SECURITY.md#untrusted-models for more details). In a future release, the default value for `weights_only` will be flipped to `True`. This limits the functions that could be executed during unpickling. Arbitrary objects will no longer be allowed to be loaded via this mode unless they are explicitly allowlisted by the user via `torch.serialization.add_safe_globals`. We recommend you start setting `weights_only=True` for any use case where you don't have full control of the loaded file. Please open an issue on GitHub for any issues related to this experimental feature.\n",
      "  client_state_dict = torch.load(model_path, map_location='cpu')\n"
     ]
    }
   ],
   "source": [
    "# # UNCOMMENT ME\n",
    "# from fedai.trainers import *\n",
    "# all_ids = client_selector.select()\n",
    "# for t in range(1, 3):\n",
    "#     lst_active_ids = all_ids[t]\n",
    "#     len_clients_ds = []\n",
    "#     for id in lst_active_ids:\n",
    "#         client = client_fn(client_cls, cfg, id, latest_round)\n",
    "#         len_clients_ds.append(200)\n",
    "#         server.communicate(client, t) # read from the disk\n",
    "#         trainer = Trainer(client) # the trainer object takes a client and make local training on its dataset.\n",
    "#         client_history = trainer.train() # actual training loop\n",
    "#         client.communicate(server, t) # save the state of the client to the disk\n",
    "#         latest_round[id] = t # make sure you tell the client_fn where to look\n",
    "#     server.aggregate(lst_active_ids, t, len_clients_ds, all_ids) # aggregate the models of the clients\n",
    "    "
   ]
  },
  {
   "cell_type": "code",
   "execution_count": null,
   "metadata": {},
   "outputs": [
    {
     "data": {
      "text/plain": [
       "([200, 200], array([10,  7]), {})"
      ]
     },
     "execution_count": null,
     "metadata": {},
     "output_type": "execute_result"
    }
   ],
   "source": [
    "# len_clients_ds, lst_active_ids, latest_round"
   ]
  },
  {
   "cell_type": "code",
   "execution_count": null,
   "metadata": {},
   "outputs": [
    {
     "name": "stderr",
     "output_type": "stream",
     "text": [
      "/home/ahmed/Ahmed-home/1- Projects/fedai/fedai/federated/agents.py:144: FutureWarning: You are using `torch.load` with `weights_only=False` (the current default value), which uses the default pickle module implicitly. It is possible to construct malicious pickle data which will execute arbitrary code during unpickling (See https://github.com/pytorch/pytorch/blob/main/SECURITY.md#untrusted-models for more details). In a future release, the default value for `weights_only` will be flipped to `True`. This limits the functions that could be executed during unpickling. Arbitrary objects will no longer be allowed to be loaded via this mode unless they are explicitly allowlisted by the user via `torch.serialization.add_safe_globals`. We recommend you start setting `weights_only=True` for any use case where you don't have full control of the loaded file. Please open an issue on GitHub for any issues related to this experimental feature.\n",
      "  client_state_dict = torch.load(model_path, map_location='cpu')\n"
     ]
    }
   ],
   "source": [
    "# server.aggregate([16, 19], 1, len_clients_ds, one_model= True)"
   ]
  }
 ],
 "metadata": {
  "kernelspec": {
   "display_name": "python3",
   "language": "python",
   "name": "python3"
  }
 },
 "nbformat": 4,
 "nbformat_minor": 2
}
