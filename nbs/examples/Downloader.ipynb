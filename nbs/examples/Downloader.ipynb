{
 "cells": [
  {
   "cell_type": "code",
   "execution_count": null,
   "metadata": {},
   "outputs": [],
   "source": [
    "%load_ext autoreload\n",
    "%autoreload 2"
   ]
  },
  {
   "cell_type": "code",
   "execution_count": null,
   "metadata": {},
   "outputs": [],
   "source": [
    "#| hide\n",
    "import yaml"
   ]
  },
  {
   "cell_type": "code",
   "execution_count": null,
   "metadata": {},
   "outputs": [],
   "source": [
    "#| hide\n",
    "def load_config(file_path):\n",
    "    with open(file_path, 'r') as file:\n",
    "        return yaml.safe_load(file)"
   ]
  },
  {
   "cell_type": "code",
   "execution_count": null,
   "metadata": {},
   "outputs": [],
   "source": [
    "#| hide\n",
    "cfg = load_config('cfg.yaml')"
   ]
  },
  {
   "cell_type": "code",
   "execution_count": null,
   "metadata": {},
   "outputs": [],
   "source": [
    "#| hide\n",
    "import os\n",
    "from omegaconf import OmegaConf\n",
    "cfg = OmegaConf.create(cfg)\n",
    "cfg.data.name = 'MNIST'\n",
    "from datetime import datetime\n",
    "cfg.save_dir = os.path.join(cfg.save_dir, \n",
    "                            datetime.now().strftime(\"%Y%m%d_%H%M%S\"))"
   ]
  },
  {
   "cell_type": "code",
   "execution_count": null,
   "metadata": {},
   "outputs": [],
   "source": [
    "import os\n",
    "import torch.nn as nn\n",
    "import torch\n",
    "from fedai.vision.VisionBlock import VisionBlock\n",
    "from fedai.utils import * # noqa: F403"
   ]
  },
  {
   "cell_type": "code",
   "execution_count": null,
   "metadata": {},
   "outputs": [],
   "source": [
    "class MLP(torch.nn.Module):\n",
    "    def __init__(self, dim_in, dim_hidden, dim_out):\n",
    "        super(MLP, self).__init__()\n",
    "        self.layer_input = nn.Linear(dim_in, dim_hidden)\n",
    "        self.relu = nn.ReLU()\n",
    "        self.dropout = nn.Dropout()\n",
    "        self.layer_hidden = nn.Linear(dim_hidden, dim_out)\n",
    "\n",
    "    def forward(self, x):\n",
    "        x = x.view(-1, x.shape[1]*x.shape[-2]*x.shape[-1])\n",
    "        x = self.layer_input(x)\n",
    "        x = self.dropout(x)\n",
    "        x = self.relu(x)\n",
    "        x = self.layer_hidden(x)\n",
    "        return x"
   ]
  },
  {
   "cell_type": "code",
   "execution_count": null,
   "metadata": {},
   "outputs": [],
   "source": [
    "def get_block(cfg, id, train=True):\n",
    "    block = VisionBlock if cfg.data.modality == ['Vision'] else None\n",
    "    return block(cfg, id, train=train)"
   ]
  },
  {
   "cell_type": "code",
   "execution_count": null,
   "metadata": {},
   "outputs": [],
   "source": [
    "def client_fn(client_cls, cfg, id, latest_round):\n",
    "    model = MLP(28*28, 128, 10)\n",
    "    criterion = torch.nn.CrossEntropyLoss()\n",
    "    train_block = get_block(cfg, id)\n",
    "    test_block = get_block(cfg, id, train=False)\n",
    "    state = {'model': model, 'optimizer': None, 'criterion': criterion}\n",
    "\n",
    "    if id in latest_round:\n",
    "        comm_round = latest_round[id]\n",
    "        state['model'] = load_state_from_disk(cfg, model, id, comm_round)\n",
    "    \n",
    "    return client_cls(id, cfg, state, block= [train_block, test_block])\n"
   ]
  },
  {
   "cell_type": "code",
   "execution_count": null,
   "metadata": {},
   "outputs": [],
   "source": [
    "from fedai.federated.agents import * # noqa: F403\n",
    "from fedai.client_selector import *  # noqa: F403\n",
    "from torch.nn.modules import CrossEntropyLoss # noqa: F403\n",
    "\n",
    "client_selector = BaseClientSelector(cfg)  # noqa: F405\n",
    "client_cls = FLAgent # noqa: F405\n",
    "server = client_cls(cfg= cfg, block= None, id= 0, state= None, role= AgentRole.SERVER)\n",
    "latest_round = {}"
   ]
  },
  {
   "cell_type": "code",
   "execution_count": null,
   "metadata": {},
   "outputs": [
    {
     "name": "stdout",
     "output_type": "stream",
     "text": [
      "data/MNIST/train data/MNIST/test\n",
      "\n",
      "Dataset already generated.\n",
      "\n",
      "data/MNIST/train data/MNIST/test\n",
      "\n",
      "Dataset already generated.\n",
      "\n"
     ]
    },
    {
     "name": "stderr",
     "output_type": "stream",
     "text": [
      "  0%|          | 0/484 [08:31<?, ?it/s]\n",
      "  0%|          | 0/484 [08:34<?, ?it/s]\n"
     ]
    },
    {
     "name": "stdout",
     "output_type": "stream",
     "text": [
      "data/MNIST/train data/MNIST/test\n",
      "\n",
      "Dataset already generated.\n",
      "\n",
      "data/MNIST/train data/MNIST/test\n",
      "\n",
      "Dataset already generated.\n",
      "\n"
     ]
    },
    {
     "name": "stderr",
     "output_type": "stream",
     "text": [
      "  0%|          | 0/513 [08:50<?, ?it/s]\n",
      "  0%|          | 0/513 [08:43<?, ?it/s]\n",
      "/home/ahmed/Ahmed-home/1- Projects/fedai/fedai/federated/agents.py:143: FutureWarning: You are using `torch.load` with `weights_only=False` (the current default value), which uses the default pickle module implicitly. It is possible to construct malicious pickle data which will execute arbitrary code during unpickling (See https://github.com/pytorch/pytorch/blob/main/SECURITY.md#untrusted-models for more details). In a future release, the default value for `weights_only` will be flipped to `True`. This limits the functions that could be executed during unpickling. Arbitrary objects will no longer be allowed to be loaded via this mode unless they are explicitly allowlisted by the user via `torch.serialization.add_safe_globals`. We recommend you start setting `weights_only=True` for any use case where you don't have full control of the loaded file. Please open an issue on GitHub for any issues related to this experimental feature.\n",
      "  \n"
     ]
    },
    {
     "ename": "AttributeError",
     "evalue": "'FLAgent' object has no attribute 'device'",
     "output_type": "error",
     "traceback": [
      "\u001b[0;31m---------------------------------------------------------------------------\u001b[0m",
      "\u001b[0;31mAttributeError\u001b[0m                            Traceback (most recent call last)",
      "Cell \u001b[0;32mIn[13], line 14\u001b[0m\n\u001b[1;32m     12\u001b[0m     client\u001b[38;5;241m.\u001b[39mcommunicate(server, t) \u001b[38;5;66;03m# save the state of the client to the disk\u001b[39;00m\n\u001b[1;32m     13\u001b[0m     latest_round[\u001b[38;5;28mid\u001b[39m] \u001b[38;5;241m=\u001b[39m t \u001b[38;5;66;03m# make sure you tell the client_fn where to look\u001b[39;00m\n\u001b[0;32m---> 14\u001b[0m \u001b[43mserver\u001b[49m\u001b[38;5;241;43m.\u001b[39;49m\u001b[43maggregate\u001b[49m\u001b[43m(\u001b[49m\u001b[43mlst_active_ids\u001b[49m\u001b[43m,\u001b[49m\u001b[43m \u001b[49m\u001b[43mt\u001b[49m\u001b[43m,\u001b[49m\u001b[43m \u001b[49m\u001b[43mlen_clients_ds\u001b[49m\u001b[43m)\u001b[49m \u001b[38;5;66;03m# aggregate the models of the clients\u001b[39;00m\n",
      "File \u001b[0;32m~/Ahmed-home/1- Projects/fedai/fedai/federated/agents.py:147\u001b[0m, in \u001b[0;36maggregate\u001b[0;34m(self, lst_active_ids, comm_round, len_clients_ds)\u001b[0m\n\u001b[1;32m    145\u001b[0m \u001b[38;5;28;01mif\u001b[39;00m i \u001b[38;5;241m==\u001b[39m \u001b[38;5;241m0\u001b[39m:\n\u001b[1;32m    146\u001b[0m     \u001b[38;5;28;01mfor\u001b[39;00m key \u001b[38;5;129;01min\u001b[39;00m client_state_dict\u001b[38;5;241m.\u001b[39mkeys():\n\u001b[0;32m--> 147\u001b[0m         client_avg[key] \u001b[38;5;241m=\u001b[39m torch\u001b[38;5;241m.\u001b[39mzeros_like(client_state_dict[key])\u001b[38;5;241m.\u001b[39mto(\u001b[38;5;28;43mself\u001b[39;49m\u001b[38;5;241;43m.\u001b[39;49m\u001b[43mdevice\u001b[49m)\n\u001b[1;32m    150\u001b[0m \u001b[38;5;28mprint\u001b[39m(\u001b[38;5;124m\"\u001b[39m\u001b[38;5;124mLENGTH : ****\u001b[39m\u001b[38;5;124m\"\u001b[39m, len_clients_ds)\n\u001b[1;32m    151\u001b[0m weight \u001b[38;5;241m=\u001b[39m len_clients_ds[i] \u001b[38;5;241m/\u001b[39m \u001b[38;5;28msum\u001b[39m(len_clients_ds)\n",
      "\u001b[0;31mAttributeError\u001b[0m: 'FLAgent' object has no attribute 'device'"
     ]
    }
   ],
   "source": [
    "# from fedai.trainers import *\n",
    "# all_ids = client_selector.select()\n",
    "# for t in range(1, 3):\n",
    "#     lst_active_ids = all_ids[t]\n",
    "#     len_clients_ds = []\n",
    "#     for id in lst_active_ids:\n",
    "#         client = client_fn(client_cls, cfg, id, latest_round)\n",
    "#         len_clients_ds.append(200)\n",
    "#         server.communicate(client, t) # read from the disk\n",
    "#         trainer = Trainer(client) # the trainer object takes a client and make local training on its dataset.\n",
    "#         client_history = trainer.train() # actual training loop\n",
    "#         client.communicate(server, t) # save the state of the client to the disk\n",
    "#         latest_round[id] = t # make sure you tell the client_fn where to look\n",
    "#     server.aggregate(lst_active_ids, t, len_clients_ds) # aggregate the models of the clients\n"
   ]
  },
  {
   "cell_type": "code",
   "execution_count": null,
   "metadata": {},
   "outputs": [],
   "source": []
  }
 ],
 "metadata": {
  "kernelspec": {
   "display_name": "python3",
   "language": "python",
   "name": "python3"
  }
 },
 "nbformat": 4,
 "nbformat_minor": 2
}
