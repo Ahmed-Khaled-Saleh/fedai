{
 "cells": [
  {
   "cell_type": "code",
   "execution_count": null,
   "metadata": {},
   "outputs": [],
   "source": [
    "%load_ext autoreload\n",
    "%autoreload 2"
   ]
  },
  {
   "cell_type": "code",
   "execution_count": null,
   "metadata": {},
   "outputs": [],
   "source": [
    "#| hide\n",
    "import yaml\n",
    "from fedai.data.core import *\n",
    "from fedai.vision.data import *"
   ]
  },
  {
   "cell_type": "code",
   "execution_count": null,
   "metadata": {},
   "outputs": [],
   "source": [
    "#| hide\n",
    "def load_config(file_path):\n",
    "    with open(file_path, 'r') as file:\n",
    "        return yaml.safe_load(file)"
   ]
  },
  {
   "cell_type": "code",
   "execution_count": null,
   "metadata": {},
   "outputs": [],
   "source": [
    "#| hide\n",
    "cfg = load_config('cfg.yaml')"
   ]
  },
  {
   "cell_type": "code",
   "execution_count": null,
   "metadata": {},
   "outputs": [
    {
     "data": {
      "text/plain": [
       "'CIFAR10'"
      ]
     },
     "execution_count": null,
     "metadata": {},
     "output_type": "execute_result"
    }
   ],
   "source": [
    "#| hide\n",
    "from omegaconf import OmegaConf\n",
    "cfg = OmegaConf.create(cfg)\n",
    "cfg.data.name"
   ]
  },
  {
   "cell_type": "code",
   "execution_count": null,
   "metadata": {},
   "outputs": [
    {
     "name": "stdout",
     "output_type": "stream",
     "text": [
      "data/train data/test\n",
      "\n",
      "Dataset not found, Downloading the dataset: CIFAR10.\n",
      "\n",
      "Downloading https://www.cs.toronto.edu/~kriz/cifar-10-python.tar.gz to data/rawdata/cifar-10-python.tar.gz\n"
     ]
    },
    {
     "name": "stderr",
     "output_type": "stream",
     "text": [
      "100%|██████████| 170498071/170498071 [00:20<00:00, 8177013.79it/s] \n"
     ]
    },
    {
     "name": "stdout",
     "output_type": "stream",
     "text": [
      "Extracting data/rawdata/cifar-10-python.tar.gz to data/rawdata\n",
      "Files already downloaded and verified\n",
      "Number of classes: 10\n",
      "changed\n",
      "Client 0\t Size of data: 5237\t Labels:  [0 2 7]\n",
      "\t\t Samples of labels:  [(0, 3), (2, 39), (7, 5195)]\n",
      "--------------------------------------------------\n",
      "Client 1\t Size of data: 4375\t Labels:  [3 6 7 8]\n",
      "\t\t Samples of labels:  [(3, 1450), (6, 119), (7, 719), (8, 2087)]\n",
      "--------------------------------------------------\n",
      "Client 2\t Size of data: 459\t Labels:  [2 5 7 9]\n",
      "\t\t Samples of labels:  [(2, 2), (5, 74), (7, 6), (9, 377)]\n",
      "--------------------------------------------------\n",
      "Client 3\t Size of data: 5278\t Labels:  [0 2 5]\n",
      "\t\t Samples of labels:  [(0, 1160), (2, 706), (5, 3412)]\n",
      "--------------------------------------------------\n",
      "Client 4\t Size of data: 4504\t Labels:  [0 1 3 4 6]\n",
      "\t\t Samples of labels:  [(0, 207), (1, 2), (3, 1), (4, 101), (6, 4193)]\n",
      "--------------------------------------------------\n",
      "Client 5\t Size of data: 4483\t Labels:  [0 1 2 5 6 9]\n",
      "\t\t Samples of labels:  [(0, 43), (1, 16), (2, 349), (5, 6), (6, 1347), (9, 2722)]\n",
      "--------------------------------------------------\n",
      "Client 6\t Size of data: 4242\t Labels:  [2]\n",
      "\t\t Samples of labels:  [(2, 4242)]\n",
      "--------------------------------------------------\n",
      "Client 7\t Size of data: 606\t Labels:  [0 1 2 4 6 9]\n",
      "\t\t Samples of labels:  [(0, 86), (1, 63), (2, 71), (4, 169), (6, 216), (9, 1)]\n",
      "--------------------------------------------------\n",
      "Client 8\t Size of data: 879\t Labels:  [2 3 4 5 6 7 8]\n",
      "\t\t Samples of labels:  [(2, 90), (3, 58), (4, 1), (5, 647), (6, 4), (7, 54), (8, 25)]\n",
      "--------------------------------------------------\n",
      "Client 9\t Size of data: 3009\t Labels:  [1 4 5]\n",
      "\t\t Samples of labels:  [(1, 2770), (4, 46), (5, 193)]\n",
      "--------------------------------------------------\n",
      "Client 10\t Size of data: 2767\t Labels:  [1 3 4 5 7 8]\n",
      "\t\t Samples of labels:  [(1, 599), (3, 990), (4, 8), (5, 3), (7, 20), (8, 1147)]\n",
      "--------------------------------------------------\n",
      "Client 11\t Size of data: 3296\t Labels:  [1 2 3 5 6 8 9]\n",
      "\t\t Samples of labels:  [(1, 202), (2, 84), (3, 43), (5, 1371), (6, 1), (8, 248), (9, 1347)]\n",
      "--------------------------------------------------\n",
      "Client 12\t Size of data: 3104\t Labels:  [0 4]\n",
      "\t\t Samples of labels:  [(0, 8), (4, 3096)]\n",
      "--------------------------------------------------\n",
      "Client 13\t Size of data: 3096\t Labels:  [0 1 3 5]\n",
      "\t\t Samples of labels:  [(0, 2304), (1, 8), (3, 560), (5, 224)]\n",
      "--------------------------------------------------\n",
      "Client 14\t Size of data: 3366\t Labels:  [0 1 3]\n",
      "\t\t Samples of labels:  [(0, 2015), (1, 328), (3, 1023)]\n",
      "--------------------------------------------------\n",
      "Client 15\t Size of data: 1801\t Labels:  [0 2 3 8 9]\n",
      "\t\t Samples of labels:  [(0, 2), (2, 133), (3, 1193), (8, 465), (9, 8)]\n",
      "--------------------------------------------------\n",
      "Client 16\t Size of data: 2116\t Labels:  [5 6 7 8 9]\n",
      "\t\t Samples of labels:  [(5, 67), (6, 1), (7, 5), (8, 2027), (9, 16)]\n",
      "--------------------------------------------------\n",
      "Client 17\t Size of data: 1931\t Labels:  [1 3 5 6 9]\n",
      "\t\t Samples of labels:  [(1, 117), (3, 282), (5, 2), (6, 2), (9, 1528)]\n",
      "--------------------------------------------------\n",
      "Client 18\t Size of data: 4350\t Labels:  [1 4]\n",
      "\t\t Samples of labels:  [(1, 1789), (4, 2561)]\n",
      "--------------------------------------------------\n",
      "Client 19\t Size of data: 1101\t Labels:  [0 1 2 3 4 5 6 7 8 9]\n",
      "\t\t Samples of labels:  [(0, 172), (1, 106), (2, 284), (3, 400), (4, 18), (5, 1), (6, 117), (7, 1), (8, 1), (9, 1)]\n",
      "--------------------------------------------------\n",
      "Total number of samples: 60000\n",
      "The number of train samples: [3927, 3281, 344, 3958, 3378, 3362, 3181, 454, 659, 2256, 2075, 2472, 2328, 2322, 2524, 1350, 1587, 1448, 3262, 825]\n",
      "The number of test samples: [1310, 1094, 115, 1320, 1126, 1121, 1061, 152, 220, 753, 692, 824, 776, 774, 842, 451, 529, 483, 1088, 276]\n",
      "\n",
      "saving\n",
      "Saving to disk in HDF5 format.\n",
      "\n"
     ]
    }
   ],
   "source": [
    "#| hide\n",
    "from fedai.data.tensorf import *\n",
    "ds = VisionBlock(cfg, train= True)\n"
   ]
  },
  {
   "cell_type": "code",
   "execution_count": null,
   "metadata": {},
   "outputs": [],
   "source": []
  },
  {
   "cell_type": "code",
   "execution_count": null,
   "metadata": {},
   "outputs": [],
   "source": []
  },
  {
   "cell_type": "code",
   "execution_count": null,
   "metadata": {},
   "outputs": [],
   "source": []
  },
  {
   "cell_type": "code",
   "execution_count": null,
   "metadata": {},
   "outputs": [],
   "source": []
  }
 ],
 "metadata": {
  "kernelspec": {
   "display_name": "python3",
   "language": "python",
   "name": "python3"
  }
 },
 "nbformat": 4,
 "nbformat_minor": 2
}
