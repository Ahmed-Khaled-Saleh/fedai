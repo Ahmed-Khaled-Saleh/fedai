{
 "cells": [
  {
   "cell_type": "code",
   "execution_count": null,
   "metadata": {},
   "outputs": [],
   "source": [
    "%load_ext autoreload\n",
    "%autoreload 2"
   ]
  },
  {
   "cell_type": "code",
   "execution_count": null,
   "metadata": {},
   "outputs": [],
   "source": [
    "#| hide\n",
    "import yaml\n",
    "from fedai.data.core import *\n",
    "from fedai.vision.downloader import *"
   ]
  },
  {
   "cell_type": "code",
   "execution_count": null,
   "metadata": {},
   "outputs": [],
   "source": [
    "#| hide\n",
    "def load_config(file_path):\n",
    "    with open(file_path, 'r') as file:\n",
    "        return yaml.safe_load(file)"
   ]
  },
  {
   "cell_type": "code",
   "execution_count": null,
   "metadata": {},
   "outputs": [],
   "source": [
    "#| hide\n",
    "cfg = load_config('cfg.yaml')"
   ]
  },
  {
   "cell_type": "code",
   "execution_count": null,
   "metadata": {},
   "outputs": [],
   "source": [
    "#| hide\n",
    "from omegaconf import OmegaConf\n",
    "cfg = OmegaConf.create(cfg)\n",
    "cfg.data.name = 'FashionMNIST'"
   ]
  },
  {
   "cell_type": "code",
   "execution_count": null,
   "metadata": {},
   "outputs": [],
   "source": [
    "#| hide\n",
    "import torchvision.transforms as transforms\n",
    "class GrayscaleToRGB(object):\n",
    "    def __call__(self, img):\n",
    "        if img.mode == 'L':\n",
    "            img = img.convert(\"RGB\")\n",
    "        return img\n",
    "    \n",
    "transform = transforms.Compose(\n",
    "    [transforms.Resize((224, 224)),\n",
    "    GrayscaleToRGB(),\n",
    "    transforms.ToTensor(),\n",
    "    transforms.Normalize(mean=[0.485, 0.456, 0.406],\n",
    "                        std=[0.229, 0.224, 0.225])]\n",
    "    )"
   ]
  },
  {
   "cell_type": "code",
   "execution_count": null,
   "metadata": {},
   "outputs": [
    {
     "name": "stdout",
     "output_type": "stream",
     "text": [
      "data/FashionMNIST/train data/FashionMNIST/test\n",
      "\n",
      "Dataset not found, Downloading the dataset: FashionMNIST.\n",
      "\n",
      "Downloading http://fashion-mnist.s3-website.eu-central-1.amazonaws.com/train-images-idx3-ubyte.gz\n",
      "Downloading http://fashion-mnist.s3-website.eu-central-1.amazonaws.com/train-images-idx3-ubyte.gz to data/rawdata/FashionMNIST/raw/train-images-idx3-ubyte.gz\n"
     ]
    },
    {
     "name": "stderr",
     "output_type": "stream",
     "text": [
      "100%|██████████| 26421880/26421880 [00:02<00:00, 11565263.55it/s]\n"
     ]
    },
    {
     "name": "stdout",
     "output_type": "stream",
     "text": [
      "Extracting data/rawdata/FashionMNIST/raw/train-images-idx3-ubyte.gz to data/rawdata/FashionMNIST/raw\n",
      "\n",
      "Downloading http://fashion-mnist.s3-website.eu-central-1.amazonaws.com/train-labels-idx1-ubyte.gz\n",
      "Downloading http://fashion-mnist.s3-website.eu-central-1.amazonaws.com/train-labels-idx1-ubyte.gz to data/rawdata/FashionMNIST/raw/train-labels-idx1-ubyte.gz\n"
     ]
    },
    {
     "name": "stderr",
     "output_type": "stream",
     "text": [
      "100%|██████████| 29515/29515 [00:00<00:00, 839367.01it/s]\n"
     ]
    },
    {
     "name": "stdout",
     "output_type": "stream",
     "text": [
      "Extracting data/rawdata/FashionMNIST/raw/train-labels-idx1-ubyte.gz to data/rawdata/FashionMNIST/raw\n",
      "\n",
      "Downloading http://fashion-mnist.s3-website.eu-central-1.amazonaws.com/t10k-images-idx3-ubyte.gz\n",
      "Downloading http://fashion-mnist.s3-website.eu-central-1.amazonaws.com/t10k-images-idx3-ubyte.gz to data/rawdata/FashionMNIST/raw/t10k-images-idx3-ubyte.gz\n"
     ]
    },
    {
     "name": "stderr",
     "output_type": "stream",
     "text": [
      "100%|██████████| 4422102/4422102 [00:00<00:00, 8994644.28it/s] \n"
     ]
    },
    {
     "name": "stdout",
     "output_type": "stream",
     "text": [
      "Extracting data/rawdata/FashionMNIST/raw/t10k-images-idx3-ubyte.gz to data/rawdata/FashionMNIST/raw\n",
      "\n",
      "Downloading http://fashion-mnist.s3-website.eu-central-1.amazonaws.com/t10k-labels-idx1-ubyte.gz\n",
      "Downloading http://fashion-mnist.s3-website.eu-central-1.amazonaws.com/t10k-labels-idx1-ubyte.gz to data/rawdata/FashionMNIST/raw/t10k-labels-idx1-ubyte.gz\n"
     ]
    },
    {
     "name": "stderr",
     "output_type": "stream",
     "text": [
      "100%|██████████| 5148/5148 [00:00<00:00, 20583676.83it/s]\n"
     ]
    },
    {
     "name": "stdout",
     "output_type": "stream",
     "text": [
      "Extracting data/rawdata/FashionMNIST/raw/t10k-labels-idx1-ubyte.gz to data/rawdata/FashionMNIST/raw\n",
      "\n",
      "Number of classes: 10\n",
      "changed\n",
      "Client 0\t Size of data: 6183\t Labels:  [0 3 4]\n",
      "\t\t Samples of labels:  [(0, 1244), (3, 2162), (4, 2777)]\n",
      "--------------------------------------------------\n",
      "Client 1\t Size of data: 49\t Labels:  [2 4 5 7 8]\n",
      "\t\t Samples of labels:  [(2, 33), (4, 4), (5, 1), (7, 9), (8, 2)]\n",
      "--------------------------------------------------\n",
      "Client 2\t Size of data: 3841\t Labels:  [0 1 2]\n",
      "\t\t Samples of labels:  [(0, 166), (1, 2102), (2, 1573)]\n",
      "--------------------------------------------------\n",
      "Client 3\t Size of data: 3607\t Labels:  [2 4]\n",
      "\t\t Samples of labels:  [(2, 3491), (4, 116)]\n",
      "--------------------------------------------------\n",
      "Client 4\t Size of data: 1317\t Labels:  [1 2 3 5 6 8 9]\n",
      "\t\t Samples of labels:  [(1, 419), (2, 1), (3, 296), (5, 3), (6, 4), (8, 1), (9, 593)]\n",
      "--------------------------------------------------\n",
      "Client 5\t Size of data: 5020\t Labels:  [0]\n",
      "\t\t Samples of labels:  [(0, 5020)]\n",
      "--------------------------------------------------\n",
      "Client 6\t Size of data: 3272\t Labels:  [1 7 8]\n",
      "\t\t Samples of labels:  [(1, 89), (7, 2885), (8, 298)]\n",
      "--------------------------------------------------\n",
      "Client 7\t Size of data: 2076\t Labels:  [1 3 4 5 6 8]\n",
      "\t\t Samples of labels:  [(1, 1), (3, 140), (4, 491), (5, 476), (6, 186), (8, 782)]\n",
      "--------------------------------------------------\n",
      "Client 8\t Size of data: 116\t Labels:  [2 4 9]\n",
      "\t\t Samples of labels:  [(2, 85), (4, 24), (9, 7)]\n",
      "--------------------------------------------------\n",
      "Client 9\t Size of data: 10275\t Labels:  [1 4 5 6]\n",
      "\t\t Samples of labels:  [(1, 13), (4, 1), (5, 3459), (6, 6802)]\n",
      "--------------------------------------------------\n",
      "Client 10\t Size of data: 558\t Labels:  [0 4 9]\n",
      "\t\t Samples of labels:  [(0, 540), (4, 12), (9, 6)]\n",
      "--------------------------------------------------\n",
      "Client 11\t Size of data: 5560\t Labels:  [3 4 5 8]\n",
      "\t\t Samples of labels:  [(3, 1520), (4, 1319), (5, 2), (8, 2719)]\n",
      "--------------------------------------------------\n",
      "Client 12\t Size of data: 3531\t Labels:  [0 1 3 4 5 6 7]\n",
      "\t\t Samples of labels:  [(0, 15), (1, 10), (3, 89), (4, 2025), (5, 290), (6, 3), (7, 1099)]\n",
      "--------------------------------------------------\n",
      "Client 13\t Size of data: 2823\t Labels:  [5 6 9]\n",
      "\t\t Samples of labels:  [(5, 2768), (6, 1), (9, 54)]\n",
      "--------------------------------------------------\n",
      "Client 14\t Size of data: 6820\t Labels:  [0 1 3 9]\n",
      "\t\t Samples of labels:  [(0, 3), (1, 82), (3, 641), (9, 6094)]\n",
      "--------------------------------------------------\n",
      "Client 15\t Size of data: 4608\t Labels:  [2 3 7]\n",
      "\t\t Samples of labels:  [(2, 1810), (3, 16), (7, 2782)]\n",
      "--------------------------------------------------\n",
      "Client 16\t Size of data: 2563\t Labels:  [1 2 3 4 8 9]\n",
      "\t\t Samples of labels:  [(1, 406), (2, 1), (3, 2135), (4, 2), (8, 6), (9, 13)]\n",
      "--------------------------------------------------\n",
      "Client 17\t Size of data: 2006\t Labels:  [0 1 2 4 7]\n",
      "\t\t Samples of labels:  [(0, 11), (1, 1541), (2, 5), (4, 228), (7, 221)]\n",
      "--------------------------------------------------\n",
      "Client 18\t Size of data: 2456\t Labels:  [1 6 8 9]\n",
      "\t\t Samples of labels:  [(1, 2096), (6, 1), (8, 358), (9, 1)]\n",
      "--------------------------------------------------\n",
      "Client 19\t Size of data: 3319\t Labels:  [0 1 2 3 4 5 6 7 8 9]\n",
      "\t\t Samples of labels:  [(0, 1), (1, 241), (2, 1), (3, 1), (4, 1), (5, 1), (6, 3), (7, 4), (8, 2834), (9, 232)]\n",
      "--------------------------------------------------\n",
      "Total number of samples: 70000\n",
      "The number of train samples: [4637, 36, 2880, 2705, 987, 3765, 2454, 1557, 87, 7706, 418, 4170, 2648, 2117, 5115, 3456, 1922, 1504, 1842, 2489]\n",
      "The number of test samples: [1546, 13, 961, 902, 330, 1255, 818, 519, 29, 2569, 140, 1390, 883, 706, 1705, 1152, 641, 502, 614, 830]\n",
      "\n",
      "saving\n",
      "Saving to disk in HDF5 format.\n",
      "\n"
     ]
    }
   ],
   "source": [
    "#| hide\n",
    "from fedai.vision.VisionBlock import *\n",
    "ds = VisionBlock(cfg, transform=None)"
   ]
  },
  {
   "cell_type": "code",
   "execution_count": null,
   "metadata": {},
   "outputs": [
    {
     "data": {
      "text/plain": [
       "fedai.vision.VisionBlock.VisionBlock"
      ]
     },
     "execution_count": null,
     "metadata": {},
     "output_type": "execute_result"
    }
   ],
   "source": [
    "VisionBlock"
   ]
  },
  {
   "cell_type": "code",
   "execution_count": null,
   "metadata": {},
   "outputs": [
    {
     "data": {
      "image/png": "[encoded data removed]",
      "text/plain": [
       "<Figure size 640x480 with 1 Axes>"
      ]
     },
     "metadata": {},
     "output_type": "display_data"
    }
   ],
   "source": [
    "fs_image = ds[0]['x'][0].reshape(28, 28)\n",
    "\n",
    "# show the first image\n",
    "import matplotlib.pyplot as plt\n",
    "plt.imshow(fs_image, cmap='gray')\n",
    "plt.show()\n"
   ]
  },
  {
   "cell_type": "code",
   "execution_count": null,
   "metadata": {},
   "outputs": [],
   "source": []
  },
  {
   "cell_type": "code",
   "execution_count": null,
   "metadata": {},
   "outputs": [],
   "source": []
  }
 ],
 "metadata": {
  "kernelspec": {
   "display_name": "python3",
   "language": "python",
   "name": "python3"
  }
 },
 "nbformat": 4,
 "nbformat_minor": 2
}
